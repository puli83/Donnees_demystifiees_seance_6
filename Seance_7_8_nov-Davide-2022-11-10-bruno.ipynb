{
 "cells": [
  {
   "cell_type": "markdown",
   "metadata": {
    "id": "QWNgJtQ3FrN8"
   },
   "source": [
    "\n",
    "\n",
    "\n",
    "<font size='10' color = 'E3A440'>**Mégadonnées et techniques avancées démystifiées**</font>\n",
    "=======\n",
    "<font color = 'E3A440'>*Nouvelles méthodes d’analyse et leur implication quant à la gestion des mégadonnées en SSH (partie 2)*</font>\n",
    "=============\n",
    "\n",
    "\n",
    "Cet atelier s’inscrit dans le cadre de la formation [Mégadonnées et techniques avancées démystifiées](https://www.4point0.ca/2022/08/22/formation-megadonnees-demystifiees/) (séance 7).\n",
    "\n",
    "Les sciences humaines et sociales sont souvent confrontées à l’analyse de données non structurées, comme le texte. Après avoir préparé les données, plusieurs techniques d’analyse venant de l’apprentissage automatique peuvent être utilisées. Pendant cet atelier, les participants seront initiés au prétraitement des données textuelles et aux méthodes supervisées et non supervisées à des buts d’analyse avec Python.\n",
    "\n",
    "Structure de l'atelier :\n",
    "\n",
    "1. Partie 1 : Exemples de méthodes non supervisées et supervisées appliquées à l'analyse de textes.\n",
    "2. Partie 2 : Exercices sur les méthodes non supervisées et supervisées\n",
    "\n",
    "### Auteurs: \n",
    "- Bruno Agard <bruno.agard@polymtl.ca>\n",
    "- Davide Pulizzotto <davide.pulizzotto@polymtl.ca>\n",
    "\n",
    "Département de Mathématiques et de génie industriel\n",
    "\n",
    "École Polytechnique de Montréal"
   ]
  },
  {
   "cell_type": "markdown",
   "metadata": {
    "id": "HpAX32-4Kj8U"
   },
   "source": [
    "# <font color = 'E3A440'>0. Préparation de l'environnement </font>"
   ]
  },
  {
   "cell_type": "code",
   "execution_count": 1,
   "metadata": {
    "colab": {
     "base_uri": "https://localhost:8080/"
    },
    "id": "jddhTL7EFrN_",
    "outputId": "8914fff3-65af-4ff1-fe4b-54cc9cfbbedd"
   },
   "outputs": [
    {
     "name": "stdout",
     "output_type": "stream",
     "text": [
      "xcrun: error: invalid active developer path (/Library/Developer/CommandLineTools), missing xcrun at: /Library/Developer/CommandLineTools/usr/bin/xcrun\r\n"
     ]
    }
   ],
   "source": [
    "# Downloading of data from the GitHub project\n",
    "#!rm -rf Data_techniques_demystified_webinars/\n",
    "!rm -rf Donnees_demystifiees_seance_6/\n",
    "#!git clone https://github.com/4point0-ChairInnovation-Polymtl/Data_techniques_demystified_webinars\n",
    "!git clone https://github.com/puli83/Donnees_demystifiees_seance_6"
   ]
  },
  {
   "cell_type": "code",
   "execution_count": 2,
   "metadata": {
    "colab": {
     "base_uri": "https://localhost:8080/"
    },
    "id": "tJLRFWa6FrOA",
    "outputId": "f96c7fd7-93ad-48a6-b157-48adefa6a936"
   },
   "outputs": [
    {
     "name": "stderr",
     "output_type": "stream",
     "text": [
      "[nltk_data] Downloading package punkt to /Users/bragard/nltk_data...\n",
      "[nltk_data]   Package punkt is already up-to-date!\n",
      "[nltk_data] Downloading package stopwords to\n",
      "[nltk_data]     /Users/bragard/nltk_data...\n",
      "[nltk_data]   Package stopwords is already up-to-date!\n",
      "[nltk_data] Downloading package wordnet to /Users/bragard/nltk_data...\n",
      "[nltk_data]   Package wordnet is already up-to-date!\n",
      "[nltk_data] Downloading package omw-1.4 to /Users/bragard/nltk_data...\n",
      "[nltk_data]   Package omw-1.4 is already up-to-date!\n",
      "[nltk_data] Downloading package averaged_perceptron_tagger to\n",
      "[nltk_data]     /Users/bragard/nltk_data...\n",
      "[nltk_data]   Package averaged_perceptron_tagger is already up-to-\n",
      "[nltk_data]       date!\n",
      "[nltk_data] Downloading package universal_tagset to\n",
      "[nltk_data]     /Users/bragard/nltk_data...\n",
      "[nltk_data]   Package universal_tagset is already up-to-date!\n"
     ]
    },
    {
     "data": {
      "text/plain": [
       "True"
      ]
     },
     "execution_count": 2,
     "metadata": {},
     "output_type": "execute_result"
    }
   ],
   "source": [
    "# Import modules\n",
    "import os\n",
    "import pandas as pd\n",
    "import re\n",
    "import numpy as np\n",
    "import nltk\n",
    "from nltk.corpus import stopwords\n",
    "from collections import Counter\n",
    "from sklearn.feature_extraction.text import CountVectorizer, TfidfTransformer\n",
    "from sklearn.preprocessing import Normalizer\n",
    "import matplotlib.pyplot as plt\n",
    "nltk.download('punkt')\n",
    "nltk.download('stopwords')\n",
    "nltk.download('wordnet')\n",
    "nltk.download('omw-1.4')\n",
    "nltk.download('averaged_perceptron_tagger')\n",
    "nltk.download('universal_tagset')"
   ]
  },
  {
   "cell_type": "markdown",
   "metadata": {
    "id": "Ges85oatFrOJ"
   },
   "source": [
    "# <font color = 'E3A440'>1. Prétraitement du corpus (rappels)</font>\n",
    "\n",
    "Le prétraitement d'un corpus de textes peut nécessiter la mise en place de plusieurs étapes dont : le découpage des phrases, des mots, le nettoyage, le filtrage, etc.\n",
    "\n",
    "Dans les prochains blocs de code, un texte sera segmenté en phrases et prétraité au moyen de la fonction `CleaningText()` préparée lors de la séance précédente.\n"
   ]
  },
  {
   "cell_type": "code",
   "execution_count": 3,
   "metadata": {
    "id": "QOzWtcugFrOK"
   },
   "outputs": [],
   "source": [
    "text = \"\"\"At eight o'clock, on Thursday morning, the great Arthur didn't feel VERY good.\n",
    "This morning, Arthur is feeling better.\n",
    "A dog runs in the street.\n",
    "A little boy in running in the street.\n",
    "Arthur is my dog, he sleeps every morning.\"\"\""
   ]
  },
  {
   "cell_type": "code",
   "execution_count": 4,
   "metadata": {
    "colab": {
     "base_uri": "https://localhost:8080/"
    },
    "id": "wLrvRTIGdypS",
    "outputId": "4f2971ef-92a1-41f4-8981-da172c1b342d"
   },
   "outputs": [
    {
     "name": "stdout",
     "output_type": "stream",
     "text": [
      "[\"At eight o'clock, on Thursday morning, the great Arthur didn't feel VERY good.\", 'This morning, Arthur is feeling better.', 'A dog runs in the street.', 'A little boy in running in the street.', 'Arthur is my dog, he sleeps every morning.']\n"
     ]
    }
   ],
   "source": [
    "# extraction des phrases\n",
    "sentences = nltk.sent_tokenize(text)\n",
    "print(sentences)"
   ]
  },
  {
   "cell_type": "code",
   "execution_count": 5,
   "metadata": {
    "id": "6rtngk2rFrOL"
   },
   "outputs": [],
   "source": [
    "# Cleaning fonction to preprocess text\n",
    "def CleaningText(text_as_string, language = 'english', reduce = '', list_pos_to_keep = [], Stopwords_to_add = []):\n",
    "    from nltk.corpus import stopwords\n",
    "\n",
    "    words = nltk.word_tokenize(text_as_string)\n",
    "    words_pos = nltk.pos_tag(words, tagset='universal')\n",
    "    words_pos = [(w, pos) for w, pos in words_pos if w.isalnum()]\n",
    "    words_pos = [(w.lower(), pos) for w, pos in words_pos]\n",
    "    \n",
    "    if reduce == 'stem': \n",
    "        from nltk.stem.porter import PorterStemmer\n",
    "        reduced_words_pos = [(PorterStemmer().stem(w), pos) for w, pos in words_pos]\n",
    "        \n",
    "    elif reduce == 'lemma':\n",
    "        from nltk.stem.wordnet import WordNetLemmatizer\n",
    "        reduced_words_pos = [(WordNetLemmatizer().lemmatize(w), pos) for w, pos in words_pos]\n",
    "    else:\n",
    "        import warnings\n",
    "        reduced_words_pos = words_pos\n",
    "        warnings.warn(\"Warning : any reduction was made on words! Please, use \\\"reduce\\\" argument to chosse between 'stem' or  'lemma'\")\n",
    "    if list_pos_to_keep:\n",
    "        reduced_words_pos = [(w, pos) for w, pos in reduced_words_pos if pos in list_pos_to_keep]\n",
    "    else:\n",
    "        import warnings\n",
    "        warnings.warn(\"Warning : any POS filtering was made. Please, use \\\"list_pos_to_keep\\\" to create a list of POS tag to keep.\")\n",
    "    \n",
    "    list_stopwords = stopwords.words(language) + Stopwords_to_add\n",
    "    reduced_words_pos = [(w, pos) for w, pos in reduced_words_pos if w not in list_stopwords and len(w) > 1 ]\n",
    "    return reduced_words_pos   "
   ]
  },
  {
   "cell_type": "code",
   "execution_count": 6,
   "metadata": {
    "colab": {
     "base_uri": "https://localhost:8080/"
    },
    "id": "vkpxyQfl2Wna",
    "outputId": "378af722-7015-4a13-8798-512daa3be42a"
   },
   "outputs": [
    {
     "name": "stdout",
     "output_type": "stream",
     "text": [
      "[[('thursday', 'NOUN'), ('morn', 'NOUN'), ('great', 'ADJ'), ('arthur', 'NOUN'), ('feel', 'VERB'), ('good', 'ADJ')], [('morn', 'NOUN'), ('arthur', 'NOUN'), ('feel', 'VERB')], [('dog', 'NOUN'), ('run', 'VERB'), ('street', 'NOUN')], [('littl', 'ADJ'), ('boy', 'NOUN'), ('run', 'VERB'), ('street', 'NOUN')], [('arthur', 'NOUN'), ('dog', 'NOUN'), ('sleep', 'VERB'), ('morn', 'NOUN')]]\n"
     ]
    }
   ],
   "source": [
    "# nettoyage des phrases, sélection de pos-tag\n",
    "cleaned_sentences = [CleaningText(sent, reduce = 'stem', list_pos_to_keep = ['NOUN','ADJ','VERB']) for sent in sentences]\n",
    "print(cleaned_sentences)"
   ]
  },
  {
   "cell_type": "markdown",
   "metadata": {
    "id": "m0YdoOA1stB2"
   },
   "source": [
    "# <font color = 'E3A440'>2. Vectorisation (rappels)</font>\n",
    "\n",
    "Le contenu des textes peut être représenté sous forme matricielle.\n",
    "\n",
    "$$X = \\begin{bmatrix} \n",
    "x_{1,1} & x_{1,2} & \\ldots & x_{1,w} \\\\\n",
    "\\vdots & \\vdots       &  \\ddots      & \\vdots \\\\ \n",
    "x_{n,1} & x_{1,2} & \\ldots & x_{n,w} \\\\\n",
    "\\end{bmatrix}\n",
    "$$ \n",
    "\n",
    "Avec :\n",
    "\n",
    "- $x_{i,j}$ peut représenter la présence du mot \"j\" dans le texte $i$,\n",
    "- $x_{i,j}$ peut mesurer le nombre d'occurences du mot $j$ dans le texte $i$,\n",
    "- $x_{i,j}$ peut représenter l'**importance** du mot $j$ dans le texte $i$, dans ce cas on utilisera par exemple la métrique tf-idf :\n",
    " $$\\text{tf-idf}_{i,j}=\\text{tf}_{i,j}.log\\left(\\frac{n}{n_i}\\right)$$\n",
    " - $\\text{tf}_{i,j}$ est la fréquence du terme $i$ dans le document $j$,\n",
    " - $n$ nombre total de documents dans l’ensemble de textes à étudier,\n",
    " - $n_i$ nombre de documents dans l’ensemble de textes qui contiennent le terme $i$.\n"
   ]
  },
  {
   "cell_type": "code",
   "execution_count": 7,
   "metadata": {
    "id": "LpFPJrGI2Nsi"
   },
   "outputs": [],
   "source": [
    "# Initialisation de l'objet\n",
    "def identity_tokenizer(text):\n",
    "    return text\n",
    "\n",
    "# Transforming the word in frequencies\n",
    "vectorized = CountVectorizer(lowercase = False, # Convert all characters to lowercase before tokenizing\n",
    "                             min_df = 1, # Ignore terms that have a document frequency strictly lower than the given threshold \n",
    "                             max_df = 10, # Ignore terms that have a document frequency strictly higher than the given threshold (corpus-specific stop words)\n",
    "                             stop_words = stopwords.words('english'), # Remove the list of words provided\n",
    "                             ngram_range = (1, 1), # Get the lower and upper boundary of the range of n-values for different word n-grams or char n-grams to be extracted\n",
    "                             tokenizer=identity_tokenizer) # Override the string tokenization step while preserving the preprocessing and n-grams generation steps"
   ]
  },
  {
   "cell_type": "markdown",
   "metadata": {
    "id": "G9uC3usB5dtB"
   },
   "source": [
    "Utilisation du \"vectorizer\" avec une liste de listes de mots (et non une liste de tuples de mots-pos) et création de la matrice avec pondération de fréquence."
   ]
  },
  {
   "cell_type": "code",
   "execution_count": 8,
   "metadata": {
    "id": "v8ydVdmC5c76"
   },
   "outputs": [
    {
     "name": "stdout",
     "output_type": "stream",
     "text": [
      "   arthur  boy  dog  feel  good  great  littl  morn  run  sleep  street  \\\n",
      "0       1    0    0     1     1      1      0     1    0      0       0   \n",
      "1       1    0    0     1     0      0      0     1    0      0       0   \n",
      "2       0    0    1     0     0      0      0     0    1      0       1   \n",
      "3       0    1    0     0     0      0      1     0    1      0       1   \n",
      "4       1    0    1     0     0      0      0     1    0      1       0   \n",
      "\n",
      "   thursday  \n",
      "0         1  \n",
      "1         0  \n",
      "2         0  \n",
      "3         0  \n",
      "4         0  \n"
     ]
    },
    {
     "name": "stderr",
     "output_type": "stream",
     "text": [
      "/Users/bragard/opt/anaconda3/lib/python3.8/site-packages/sklearn/feature_extraction/text.py:383: UserWarning: Your stop_words may be inconsistent with your preprocessing. Tokenizing the stop words generated tokens [\"'\", 'b', 'c', 'e', 'f', 'g', 'h', 'j', 'l', 'n', 'p', 'r', 'u', 'v', 'w'] not in stop_words.\n",
      "  warnings.warn('Your stop_words may be inconsistent with '\n"
     ]
    }
   ],
   "source": [
    "# Application du vectorizer\n",
    "freq_term_DTM = vectorized.fit_transform([[w for w, pos in sent] for sent in cleaned_sentences])\n",
    "\n",
    "freq_Matrix=pd.DataFrame(freq_term_DTM.toarray(), columns =  [k for k, v in sorted(vectorized.vocabulary_.items(), key=lambda item: item[1])] )\n",
    "print(freq_Matrix)"
   ]
  },
  {
   "cell_type": "markdown",
   "metadata": {
    "id": "gzlUbcCJHn7k"
   },
   "source": [
    "Crération de la matrice avec pondéraiton tf-idf."
   ]
  },
  {
   "cell_type": "code",
   "execution_count": 9,
   "metadata": {
    "id": "4GsktR7_Znke"
   },
   "outputs": [
    {
     "name": "stdout",
     "output_type": "stream",
     "text": [
      "     arthur       boy       dog      feel      good     great     littl  \\\n",
      "0  0.130137  0.000000  0.000000  0.156774  0.194317  0.194317  0.000000   \n",
      "1  0.312043  0.000000  0.000000  0.375914  0.000000  0.000000  0.000000   \n",
      "2  0.000000  0.000000  0.333333  0.000000  0.000000  0.000000  0.000000   \n",
      "3  0.000000  0.276733  0.000000  0.000000  0.000000  0.000000  0.276733   \n",
      "4  0.212863  0.000000  0.256433  0.000000  0.000000  0.000000  0.000000   \n",
      "\n",
      "       morn       run     sleep    street  thursday  \n",
      "0  0.130137  0.000000  0.000000  0.000000  0.194317  \n",
      "1  0.312043  0.000000  0.000000  0.000000  0.000000  \n",
      "2  0.000000  0.333333  0.000000  0.333333  0.000000  \n",
      "3  0.000000  0.223267  0.000000  0.223267  0.000000  \n",
      "4  0.212863  0.000000  0.317842  0.000000  0.000000  \n"
     ]
    }
   ],
   "source": [
    "# Calculate the tfidf matrix\n",
    "tfidf = TfidfTransformer(norm='l1')\n",
    "tfidf_DTM = tfidf.fit_transform(freq_term_DTM)\n",
    "\n",
    "tfidf_Matrix=pd.DataFrame(tfidf_DTM.toarray(), columns =  [k for k, v in sorted(vectorized.vocabulary_.items(), key=lambda item: item[1])] )\n",
    "print(tfidf_Matrix)"
   ]
  },
  {
   "cell_type": "markdown",
   "metadata": {
    "id": "V9ZpDrk9TzOo"
   },
   "source": [
    "# <font color = 'E3A440'>3. Méthodes non supervisées</font>"
   ]
  },
  {
   "cell_type": "markdown",
   "metadata": {
    "id": "YAEHXJXZrCGi"
   },
   "source": [
    "\n",
    "## <font color = 'E3A440'>3.0. Segmentation </font>\n",
    "\n",
    "\n",
    "Le but de la segmentation est de diviser un ensemble de données en sous ensembles plus petits qui partagent certaines caractéristiques.\n",
    "\n",
    "On veut que les éléments au sein d'un même sous groupe soit le plus similaires possibles.\n",
    "\n",
    "Une grande majorité des méthodes de segmentation est alors basée sur des métriques de distance.\n"
   ]
  },
  {
   "cell_type": "markdown",
   "metadata": {
    "id": "aALJbs9YrHHx"
   },
   "source": [
    "\n",
    "### <font color = 'E3A440'>3.1. Métriques de distance </font>\n"
   ]
  },
  {
   "cell_type": "markdown",
   "metadata": {
    "id": "2SAuddwtrLBS"
   },
   "source": [
    "\n",
    "\n",
    "#### <font color = 'E3A440'>3.1.1. Distances entre points </font>\n",
    "\n",
    "Il existe de nombreuses métriques pour évaluer la similarité/distance entre deux points :\n",
    "\n",
    "\n",
    "### Distance Euclidienne\n",
    "\n",
    "$$d(x_1,x_2) = \\sqrt{\\sum_i^n\\left(x_{1,i},x_{2,i}\\right)^2}$$\n",
    "\n",
    "\n",
    "### Distances de Hamming\n",
    "\n",
    "En nombre de coordonnées différentes\n",
    "\n",
    "$$d_1(x_1,x_2) = \\sum_i^n\\delta_i$$\n",
    "\n",
    "\n",
    "\\begin{split}\n",
    "    Tel\\ que\\ :&\\\\ \n",
    "    &\\delta_i=\\begin{cases}  \n",
    "    0,\\ if\\ x_{1,i} = x_{2,i}\\\\\n",
    "    Sinon\\ 1\\\\\n",
    "    \\end{cases}\n",
    "\\end{split}\n",
    "\n",
    "\n",
    "En nombre de coordonnées différentes \"positives\"\n",
    "\n",
    "$$d_2(x_1,x_2) = \\sum_i^n\\delta_i$$\n",
    "\n",
    "\n",
    "\\begin{split}\n",
    "    Tel\\ que\\ :&\\\\ \n",
    "    &\\delta_i=\\begin{cases}  \n",
    "    0,\\ if\\ x_{1,i} = x_{2,i} = 1\\\\\n",
    "    Sinon\\ 1\\\\\n",
    "    \\end{cases}\n",
    "\\end{split}\n",
    "\n",
    "En pourcentage de coordonnées différentes / \"positives\"\n",
    "\n",
    "$$d_3(x_1,x_2) = \\frac{d_1(x_1,x_2)\\ ou\\ d_2(x_1,x_2)}{n}$$\n",
    "\n",
    "Avec différentes pondérations possibles\n",
    "\n",
    "$$d_4(x_1,x_2) = \\sum_i^n\\delta_i$$\n",
    "\n",
    "\n",
    "\\begin{split}\n",
    "    Tel\\ que\\ :&\\\\ \n",
    "    &\\delta_i=\\begin{cases}  \n",
    "    p,\\ if\\ x_{1,i} = x_{2,i} = 1\\\\\n",
    "    1,\\ if\\ x_{1,i} = x_{2,i} = 0\\\\ \n",
    "    Sinon\\ 0\\\\\n",
    "    \\end{cases}\n",
    "\\end{split}\n",
    "\n",
    "\n",
    "Il existe d'autres versions 'adaptées\" de Hamming...\n",
    "\n",
    "\n",
    "\n",
    "\n",
    "### Plein d'autres ...\n",
    "\n",
    "Mais aucune ne fait vraiment ce que vous aurez besoin, car votre besoin est unique.\n",
    "\n",
    "\n"
   ]
  },
  {
   "cell_type": "markdown",
   "metadata": {
    "id": "MC8c_A6XrVqa"
   },
   "source": [
    "\n",
    "#### <font color = 'E3A440'>3.1.2. Hypermétriques, distances entre groupes </font>\n",
    "\n",
    "\n",
    " - Plus proche voisin (single linkage)\n",
    " - Voisin le plus éloigné (complete linkage)\n",
    " - Distance moyenne (average linkage)\n",
    " - Distance au centre de gravité\n",
    " - ...\n",
    "\n",
    "\n",
    "\n"
   ]
  },
  {
   "cell_type": "markdown",
   "metadata": {
    "id": "IXR4EIkvrdhk"
   },
   "source": [
    "### <font color = 'E3A440'>3.2. Normalisation des données </font>\n",
    "\n",
    "Pour les algorithmes basés sur la distance, il est important de normaliser les données :"
   ]
  },
  {
   "cell_type": "code",
   "execution_count": 10,
   "metadata": {
    "colab": {
     "base_uri": "https://localhost:8080/"
    },
    "id": "pirDtYQqdypY",
    "outputId": "4e87b0c5-4f76-4b59-98e5-b373f9849244"
   },
   "outputs": [
    {
     "name": "stdout",
     "output_type": "stream",
     "text": [
      "[[100000      0      0      0      0      0      0]\n",
      " [100000      1      1      1      1      1      1]\n",
      " [     1      1      1      1      1      1      1]]\n"
     ]
    }
   ],
   "source": [
    "from scipy.spatial import distance\n",
    "\n",
    "X = np.array([[100000, 0, 0, 0, 0, 0, 0],\n",
    "              [100000, 1, 1, 1, 1, 1, 1],\n",
    "              [1, 1, 1, 1, 1, 1, 1],\n",
    "             ])\n",
    "\n",
    "print(X)"
   ]
  },
  {
   "cell_type": "code",
   "execution_count": 11,
   "metadata": {
    "colab": {
     "base_uri": "https://localhost:8080/"
    },
    "id": "Luj-VLTwdypZ",
    "outputId": "6895206d-537c-487c-b1d8-749955abb977"
   },
   "outputs": [
    {
     "name": "stdout",
     "output_type": "stream",
     "text": [
      "2.449489742783178\n",
      "99999.0\n"
     ]
    }
   ],
   "source": [
    "print( distance.euclidean(X[0], X[1]) )\n",
    "print( distance.euclidean(X[1], X[2]) )"
   ]
  },
  {
   "cell_type": "markdown",
   "metadata": {
    "id": "GL1Djp_WdypZ"
   },
   "source": [
    "#### Normalisation décimale"
   ]
  },
  {
   "cell_type": "code",
   "execution_count": 12,
   "metadata": {
    "colab": {
     "base_uri": "https://localhost:8080/"
    },
    "id": "6hZmISnqdypZ",
    "outputId": "32e8a2dd-49ee-4445-85c3-663634cf620e"
   },
   "outputs": [
    {
     "name": "stdout",
     "output_type": "stream",
     "text": [
      "[[1 0 0 0 0 0 0]\n",
      " [1 1 1 1 1 1 1]\n",
      " [0 1 1 1 1 1 1]]\n"
     ]
    }
   ],
   "source": [
    "XD=X.copy()\n",
    "XD[:, 0] = XD[:, 0]/100000\n",
    "\n",
    "print(XD)"
   ]
  },
  {
   "cell_type": "code",
   "execution_count": 13,
   "metadata": {
    "colab": {
     "base_uri": "https://localhost:8080/"
    },
    "id": "83224ioddypZ",
    "outputId": "0c45e540-a60f-40f7-a6cd-971d363b2cc1"
   },
   "outputs": [
    {
     "name": "stdout",
     "output_type": "stream",
     "text": [
      "2.449489742783178\n",
      "1.0\n"
     ]
    }
   ],
   "source": [
    "print( distance.euclidean(XD[0], XD[1]) )\n",
    "print( distance.euclidean(XD[1], XD[2]) )"
   ]
  },
  {
   "cell_type": "markdown",
   "metadata": {
    "id": "977e0F1_dypa"
   },
   "source": [
    "#### Normalisation Min/max"
   ]
  },
  {
   "cell_type": "code",
   "execution_count": 14,
   "metadata": {
    "colab": {
     "base_uri": "https://localhost:8080/"
    },
    "id": "sLSLUvWgdypa",
    "outputId": "722fe1d3-de34-4953-c5ec-15158afa21b5"
   },
   "outputs": [
    {
     "name": "stdout",
     "output_type": "stream",
     "text": [
      "[[1. 0. 0. 0. 0. 0. 0.]\n",
      " [1. 1. 1. 1. 1. 1. 1.]\n",
      " [0. 1. 1. 1. 1. 1. 1.]]\n"
     ]
    }
   ],
   "source": [
    "from sklearn.preprocessing import MinMaxScaler\n",
    "\n",
    "XmM=X.copy()\n",
    "scaler = MinMaxScaler().fit(XmM)\n",
    "XmM=scaler.transform(XmM)\n",
    "#X=scaler.inverse_transform(X)\n",
    "\n",
    "print(XmM)"
   ]
  },
  {
   "cell_type": "code",
   "execution_count": 15,
   "metadata": {
    "colab": {
     "base_uri": "https://localhost:8080/"
    },
    "id": "KKLkwqYIdypb",
    "outputId": "b19d8af6-86bc-4d98-c387-21ca03c58936"
   },
   "outputs": [
    {
     "name": "stdout",
     "output_type": "stream",
     "text": [
      "2.449489742783178\n",
      "1.0\n"
     ]
    }
   ],
   "source": [
    "print( distance.euclidean(XmM[0], XmM[1]) )\n",
    "print( distance.euclidean(XmM[1], XmM[2]) )"
   ]
  },
  {
   "cell_type": "markdown",
   "metadata": {
    "id": "iy5Y2qp1dypb"
   },
   "source": [
    "#### Normalisation sur la variance"
   ]
  },
  {
   "cell_type": "code",
   "execution_count": 16,
   "metadata": {
    "colab": {
     "base_uri": "https://localhost:8080/"
    },
    "id": "_JTMscHQdypb",
    "outputId": "2d7d73d2-b0a0-480c-dedf-add8baa669d2"
   },
   "outputs": [
    {
     "name": "stdout",
     "output_type": "stream",
     "text": [
      "[[ 0.70710678 -1.41421356 -1.41421356 -1.41421356 -1.41421356 -1.41421356\n",
      "  -1.41421356]\n",
      " [ 0.70710678  0.70710678  0.70710678  0.70710678  0.70710678  0.70710678\n",
      "   0.70710678]\n",
      " [-1.41421356  0.70710678  0.70710678  0.70710678  0.70710678  0.70710678\n",
      "   0.70710678]]\n"
     ]
    }
   ],
   "source": [
    "from sklearn.preprocessing import StandardScaler\n",
    "\n",
    "XV=X.copy()\n",
    "scaler = StandardScaler().fit(XV)\n",
    "XV=scaler.transform(XV)\n",
    "#X=scaler.inverse_transform(X)\n",
    "\n",
    "print(XV)"
   ]
  },
  {
   "cell_type": "code",
   "execution_count": 17,
   "metadata": {
    "colab": {
     "base_uri": "https://localhost:8080/"
    },
    "id": "NtYUwMkfdypb",
    "outputId": "a01e490e-909f-43c3-f610-34277ea6e2cd"
   },
   "outputs": [
    {
     "name": "stdout",
     "output_type": "stream",
     "text": [
      "5.196152422706631\n",
      "2.1213203435596424\n"
     ]
    }
   ],
   "source": [
    "print( distance.euclidean(XV[0], XV[1]) )\n",
    "print( distance.euclidean(XV[1], XV[2]) )"
   ]
  },
  {
   "cell_type": "markdown",
   "metadata": {
    "id": "lvmxXbl8XXST"
   },
   "source": [
    "### <font color = 'E3A440'>3.3. Algorithmes de segmentation </font>\n",
    "\n",
    "Il existe de nombreux algorithmes pour réaliser la segmentation d'un ensemble de données. On choisi un algorithme particulier en fonction du type de données et du type de résultat que l'on cherche."
   ]
  },
  {
   "cell_type": "code",
   "execution_count": 18,
   "metadata": {},
   "outputs": [],
   "source": [
    "# Draw fonction to plot results\n",
    "import pandas as pd\n",
    "import numpy as np\n",
    "import matplotlib.pyplot as plt\n",
    "\n",
    "from numpy import unique\n",
    "from numpy import where\n",
    "\n",
    "def draw(X,yhat):\n",
    "    # retrieve unique clusters\n",
    "    clusters = unique(yhat)\n",
    "\n",
    "    #plt.figure(figsize=(10, 10))\n",
    "    # create scatter plot for samples from each cluster\n",
    "    for cluster in clusters:\n",
    "        # get row indexes for samples with this cluster\n",
    "        row_ix = where(yhat == cluster)\n",
    "        # create scatter of these samples\n",
    "        plt.scatter(X[row_ix, 0], X[row_ix, 1])\n",
    "\n",
    "    plt.title(\"Clusters\")\n",
    "    # show the plot\n",
    "    plt.show() "
   ]
  },
  {
   "cell_type": "code",
   "execution_count": 19,
   "metadata": {
    "colab": {
     "base_uri": "https://localhost:8080/",
     "height": 281
    },
    "id": "KKm8hyy4dypc",
    "outputId": "e141ef94-0c0d-483a-e079-f350a6a35168"
   },
   "outputs": [
    {
     "data": {
      "image/png": "[encoded data removed]",
      "text/plain": [
       "<Figure size 432x288 with 1 Axes>"
      ]
     },
     "metadata": {
      "needs_background": "light"
     },
     "output_type": "display_data"
    }
   ],
   "source": [
    "#dataset generator\n",
    "k=4\n",
    "n_samples=1000\n",
    "features=3\n",
    "\n",
    "# define dataset\n",
    "from sklearn.datasets import make_blobs\n",
    "from sklearn.preprocessing import StandardScaler\n",
    "\n",
    "X, _ = make_blobs(n_samples, centers=k, n_features=features, cluster_std=0.6, random_state=0)\n",
    "\n",
    "scaler = StandardScaler().fit(X)\n",
    "X=scaler.transform(X)\n",
    "#X=scaler.inverse_transform(X)\n",
    "\n",
    "yhat=np.zeros(n_samples)\n",
    "    \n",
    "draw(X,yhat)"
   ]
  },
  {
   "cell_type": "markdown",
   "metadata": {
    "id": "SU00eYOjXXbW"
   },
   "source": [
    "#### <font color = 'E3A440'>3.3.1. k-means</font>\n",
    "L'application d'un algorithme de <font color='E3A440'>**segmentation**</font> à une base de données permet de segmenter les observations dans des groupes de données homogènes.\n",
    "\n",
    "Pour ce faire, l'objectif de l'algorithme k-means est de minimiser l'inertie intra-classe autour d'un représentant de chaque groupe. Pour k-means, le représentant que chaque groupe est la moyenne de ce groupe. Les représentants sont remis à jour à chaque itération lors de l'apprentissage.\n",
    "\n",
    "La méthode k-means génère un vecteur  $Y$ de taille $n$, qui contient les <font color='E3A440'>**étiquettes des groupes**</font> assignées à chaque observation. Les étiquettes peuvent aller de $0$ à $k$. $k$ est le paramètre qui permet à l'usager de déterminer le nombre de groupes à générer. \n",
    "\n",
    "$$\n",
    "Y = \\begin{bmatrix} \n",
    "c_1 \\\\\n",
    "c_2 \\\\\n",
    "\\vdots \\\\ \n",
    "c_n\n",
    "\\end{bmatrix}$$\n",
    "\n",
    "$Y_i$ correspond au groupe attribué à $X_i$."
   ]
  },
  {
   "cell_type": "code",
   "execution_count": 20,
   "metadata": {
    "colab": {
     "base_uri": "https://localhost:8080/",
     "height": 281
    },
    "id": "V-NUIXIqdypd",
    "outputId": "29e1bd16-3ba4-4a97-9475-24f7142a44b8"
   },
   "outputs": [
    {
     "data": {
      "image/png": "[encoded data removed]",
      "text/plain": [
       "<Figure size 432x288 with 1 Axes>"
      ]
     },
     "metadata": {
      "needs_background": "light"
     },
     "output_type": "display_data"
    }
   ],
   "source": [
    "from sklearn.cluster import KMeans\n",
    "\n",
    "model = KMeans(n_clusters=4).fit(X)\n",
    "\n",
    "# assign a cluster to each example\n",
    "yhatkm = model.predict(X)\n",
    "\n",
    "draw(X,yhatkm)"
   ]
  },
  {
   "cell_type": "markdown",
   "metadata": {
    "id": "QdXBgvQldypd"
   },
   "source": [
    "##### Que ce passe-t-il à chaque itération ?\n",
    "\n",
    "L'algorithme exécute les étapes suivantes: \n",
    " 1. **Initialisation des représentants** : k points (*k* est choisi par l'usager) sont sélectionnés aléatoirement parmis l'ensemble de données. Chacun de ces points sera utilisé comme représentant d'un groupe pour la première itération. Chaque représentant portera l'étiquette du groupe qu'il représente.\n",
    " \n",
    " 2. **Début des itérations**:\n",
    "\n",
    "   2.1. **Classification**: Assigner à chaque point de l'ensemble de données l'étiquette du représentant qui lui est le plus proche.\n",
    "\n",
    "   2.2. **Mise à jour des représentants**: Pour chaque groupe généré, calculer le \"centre\" des données associées au groupe. Ce centre sera le nouveau représentant pour le groupe.\n",
    "\n",
    "   2.3. **Répétition**: Répéter les opérations 2.1. et 2.2. jusqu'à un critère d'arrêt (stabilisation des représentants, nombre d'itérations, temps de calcul...).\n"
   ]
  },
  {
   "cell_type": "code",
   "execution_count": 21,
   "metadata": {
    "colab": {
     "base_uri": "https://localhost:8080/",
     "height": 1000
    },
    "id": "4jH2XFE2dype",
    "outputId": "a7294c70-2754-4e8d-a726-0f7d5da38914"
   },
   "outputs": [
    {
     "name": "stdout",
     "output_type": "stream",
     "text": [
      "Iteration : 1\n"
     ]
    },
    {
     "data": {
      "image/png": "[encoded data removed]",
      "text/plain": [
       "<Figure size 432x288 with 1 Axes>"
      ]
     },
     "metadata": {
      "needs_background": "light"
     },
     "output_type": "display_data"
    },
    {
     "name": "stdout",
     "output_type": "stream",
     "text": [
      "Iteration : 2\n"
     ]
    },
    {
     "data": {
      "image/png": "[encoded data removed]",
      "text/plain": [
       "<Figure size 432x288 with 1 Axes>"
      ]
     },
     "metadata": {
      "needs_background": "light"
     },
     "output_type": "display_data"
    },
    {
     "name": "stdout",
     "output_type": "stream",
     "text": [
      "Iteration : 3\n"
     ]
    },
    {
     "data": {
      "image/png": "[encoded data removed]",
      "text/plain": [
       "<Figure size 432x288 with 1 Axes>"
      ]
     },
     "metadata": {
      "needs_background": "light"
     },
     "output_type": "display_data"
    },
    {
     "name": "stdout",
     "output_type": "stream",
     "text": [
      "...\n",
      "...\n",
      "...\n",
      "\n",
      "Iteration : 10\n"
     ]
    },
    {
     "data": {
      "image/png": "[encoded data removed]",
      "text/plain": [
       "<Figure size 432x288 with 1 Axes>"
      ]
     },
     "metadata": {
      "needs_background": "light"
     },
     "output_type": "display_data"
    }
   ],
   "source": [
    "k=4\n",
    "\n",
    "for i in range (1,4) :\n",
    "    print(\"Iteration :\", i)\n",
    "    model = KMeans(n_clusters=k, max_iter=i, n_init=1, init=\"random\", random_state=1).fit(X)\n",
    "    # assign a cluster to each example\n",
    "    yhatkm = model.predict(X)\n",
    "    draw(X,yhatkm)\n",
    "\n",
    "print(\"...\\n...\\n...\\n\")\n",
    "\n",
    "i=10\n",
    "print(\"Iteration :\", i)\n",
    "model = KMeans(n_clusters=k, max_iter=i, n_init=1, init=\"random\", random_state=1).fit(X)\n",
    "# assign a cluster to each example\n",
    "yhatkm = model.predict(X)\n",
    "draw(X,yhatkm)"
   ]
  },
  {
   "cell_type": "markdown",
   "metadata": {
    "id": "Tc44aMJ0dype"
   },
   "source": [
    "##### Sensibilité à l'initialisation\n"
   ]
  },
  {
   "cell_type": "code",
   "execution_count": 22,
   "metadata": {
    "colab": {
     "base_uri": "https://localhost:8080/",
     "height": 1000
    },
    "id": "ASr1FkoMdype",
    "outputId": "bd9000ef-289e-4a32-bca0-ff5f780adc0e"
   },
   "outputs": [
    {
     "name": "stdout",
     "output_type": "stream",
     "text": [
      "Random state : 1\n"
     ]
    },
    {
     "data": {
      "image/png": "[encoded data removed]",
      "text/plain": [
       "<Figure size 432x288 with 1 Axes>"
      ]
     },
     "metadata": {
      "needs_background": "light"
     },
     "output_type": "display_data"
    },
    {
     "name": "stdout",
     "output_type": "stream",
     "text": [
      "Random state : 2\n"
     ]
    },
    {
     "data": {
      "image/png": "[encoded data removed]",
      "text/plain": [
       "<Figure size 432x288 with 1 Axes>"
      ]
     },
     "metadata": {
      "needs_background": "light"
     },
     "output_type": "display_data"
    },
    {
     "name": "stdout",
     "output_type": "stream",
     "text": [
      "Random state : 3\n"
     ]
    },
    {
     "data": {
      "image/png": "[encoded data removed]",
      "text/plain": [
       "<Figure size 432x288 with 1 Axes>"
      ]
     },
     "metadata": {
      "needs_background": "light"
     },
     "output_type": "display_data"
    },
    {
     "name": "stdout",
     "output_type": "stream",
     "text": [
      "Random state : 4\n"
     ]
    },
    {
     "data": {
      "image/png": "[encoded data removed]",
      "text/plain": [
       "<Figure size 432x288 with 1 Axes>"
      ]
     },
     "metadata": {
      "needs_background": "light"
     },
     "output_type": "display_data"
    },
    {
     "name": "stdout",
     "output_type": "stream",
     "text": [
      "Random state : 5\n"
     ]
    },
    {
     "data": {
      "image/png": "[encoded data removed]",
      "text/plain": [
       "<Figure size 432x288 with 1 Axes>"
      ]
     },
     "metadata": {
      "needs_background": "light"
     },
     "output_type": "display_data"
    }
   ],
   "source": [
    "for rs in range (1,6) :\n",
    "    print(\"Random state :\", rs)\n",
    "    model = KMeans(n_clusters=k, n_init=1, init=\"random\", random_state=rs).fit(X)\n",
    "    # assign a cluster to each example\n",
    "    yhatkm = model.predict(X)\n",
    "    draw(X,yhatkm)"
   ]
  },
  {
   "cell_type": "markdown",
   "metadata": {
    "id": "twqpWLJGdype"
   },
   "source": [
    "Conclusions :\n",
    "\n",
    " - K-means est sensible aux choix initial des représentants, cet algorithme donne un optimum LOCAL.\n",
    " \n",
    " - L'initialisation a un impact sur les résultats du k-means, donc sur la qualité du partitionnement.\n",
    "\n",
    " - Pour compenser, on peut :\n",
    " \n",
    "     - choisir judiscieusement les points d'initialisation en fonction de notre connaissance du problème,\n",
    "\n",
    "     - appliquer k-means avec différents points de départ et garder le meilleur résultat,\n",
    "         \n",
    "     - appliquer des méthodes spécifiques d'initalisation, parmis lesquelles il y a *k-means++*."
   ]
  },
  {
   "cell_type": "markdown",
   "metadata": {
    "id": "nxPJOsCadype"
   },
   "source": [
    "##### Sensibilité au nombre de groupes\n",
    "\n",
    "Le paramètre *k* détermine le nombre de groupes souhaités. La méthode est très sensible à ce paramètre, et il doit être choisi judiscieusement."
   ]
  },
  {
   "cell_type": "code",
   "execution_count": 23,
   "metadata": {
    "colab": {
     "base_uri": "https://localhost:8080/",
     "height": 1000
    },
    "id": "zGpSOlwydypf",
    "outputId": "5f194b65-e61c-4057-ff94-5f0ee63ac1d8"
   },
   "outputs": [
    {
     "name": "stdout",
     "output_type": "stream",
     "text": [
      "k =  1\n"
     ]
    },
    {
     "data": {
      "image/png": "[encoded data removed]",
      "text/plain": [
       "<Figure size 432x288 with 1 Axes>"
      ]
     },
     "metadata": {
      "needs_background": "light"
     },
     "output_type": "display_data"
    },
    {
     "name": "stdout",
     "output_type": "stream",
     "text": [
      "k =  2\n"
     ]
    },
    {
     "data": {
      "image/png": "[encoded data removed]",
      "text/plain": [
       "<Figure size 432x288 with 1 Axes>"
      ]
     },
     "metadata": {
      "needs_background": "light"
     },
     "output_type": "display_data"
    },
    {
     "name": "stdout",
     "output_type": "stream",
     "text": [
      "k =  3\n"
     ]
    },
    {
     "data": {
      "image/png": "[encoded data removed]",
      "text/plain": [
       "<Figure size 432x288 with 1 Axes>"
      ]
     },
     "metadata": {
      "needs_background": "light"
     },
     "output_type": "display_data"
    },
    {
     "name": "stdout",
     "output_type": "stream",
     "text": [
      "k =  4\n"
     ]
    },
    {
     "data": {
      "image/png": "[encoded data removed]",
      "text/plain": [
       "<Figure size 432x288 with 1 Axes>"
      ]
     },
     "metadata": {
      "needs_background": "light"
     },
     "output_type": "display_data"
    },
    {
     "name": "stdout",
     "output_type": "stream",
     "text": [
      "k =  5\n"
     ]
    },
    {
     "data": {
      "image/png": "[encoded data removed]",
      "text/plain": [
       "<Figure size 432x288 with 1 Axes>"
      ]
     },
     "metadata": {
      "needs_background": "light"
     },
     "output_type": "display_data"
    }
   ],
   "source": [
    "for m in range (1,6) :\n",
    "    print(\"k = \", m)\n",
    "    model = KMeans(n_clusters=m, max_iter=20, n_init=1, init=\"random\", random_state=1).fit(X)\n",
    "    # assign a cluster to each example\n",
    "    yhatkm = model.predict(X)\n",
    "    draw(X,yhatkm)"
   ]
  },
  {
   "cell_type": "markdown",
   "metadata": {
    "id": "CGgjhYdEdypf"
   },
   "source": [
    "Conclusion :\n",
    "\n",
    "  - un mauvais nombre de groupes peut donner des groupes qui ne font pas de sens dans le but de l'analyse."
   ]
  },
  {
   "cell_type": "code",
   "execution_count": 24,
   "metadata": {
    "colab": {
     "base_uri": "https://localhost:8080/",
     "height": 510
    },
    "id": "tgBJhckyqa5w",
    "outputId": "fb0b5bd1-66ff-43e6-80b7-dc0db140a0fd"
   },
   "outputs": [
    {
     "data": {
      "image/png": "[encoded data removed]",
      "text/plain": [
       "<Figure size 432x432 with 1 Axes>"
      ]
     },
     "metadata": {
      "needs_background": "light"
     },
     "output_type": "display_data"
    }
   ],
   "source": [
    "from sklearn.metrics import silhouette_score\n",
    "\n",
    "max=30\n",
    "Sil=np.zeros(max)\n",
    "x_axis=np.zeros(max)\n",
    "\n",
    "for m in range (2,max) :\n",
    "\n",
    "    model = KMeans(n_clusters=m, max_iter=100, n_init=1, init=\"random\", random_state=3).fit(X)\n",
    "\n",
    "    # assign a cluster to each example\n",
    "    labels = model.predict(X)\n",
    "\n",
    "    Sil[m]=silhouette_score(X, labels, metric=\"euclidean\")\n",
    "    x_axis[m]=m\n",
    "\n",
    "fig = plt.figure(figsize=(6, 6))\n",
    "a1 = fig.add_axes([0,0,1,1])\n",
    "l1 = a1.plot(x_axis,Sil,'rs-') # solid line with yellow colour and square marker\n",
    "a1.set_xlabel('k')\n",
    "a1.set_ylabel('Silhouette')\n",
    "a1.set_title('Evolution of indexes')\n",
    "plt.show()"
   ]
  },
  {
   "cell_type": "markdown",
   "metadata": {
    "id": "hRfH1HBTdypf"
   },
   "source": [
    "##### À partir de notre ensemble de textes"
   ]
  },
  {
   "cell_type": "code",
   "execution_count": 25,
   "metadata": {},
   "outputs": [
    {
     "name": "stdout",
     "output_type": "stream",
     "text": [
      "At eight o'clock, on Thursday morning, the great Arthur didn't feel VERY good.\n",
      "This morning, Arthur is feeling better.\n",
      "A dog runs in the street.\n",
      "A little boy in running in the street.\n",
      "Arthur is my dog, he sleeps every morning.\n"
     ]
    }
   ],
   "source": [
    "print(text)"
   ]
  },
  {
   "cell_type": "code",
   "execution_count": 26,
   "metadata": {
    "id": "bXlv6J8xZEj-"
   },
   "outputs": [
    {
     "name": "stdout",
     "output_type": "stream",
     "text": [
      "[0 0 1 1 0]\n"
     ]
    }
   ],
   "source": [
    "tfidf_Matrix=tfidf_DTM.toarray()\n",
    "\n",
    "model = KMeans(n_clusters=2).fit(tfidf_Matrix)\n",
    "\n",
    "# assign a cluster to each example\n",
    "yhatkm_tfidf = model.predict(tfidf_Matrix)\n",
    "\n",
    "print(yhatkm_tfidf)"
   ]
  },
  {
   "cell_type": "markdown",
   "metadata": {
    "id": "h8qelreldypf"
   },
   "source": [
    "#### <font color = 'E3A440'>3.3.2. Méthode hiéarchique CHA</font>"
   ]
  },
  {
   "cell_type": "code",
   "execution_count": 27,
   "metadata": {
    "colab": {
     "base_uri": "https://localhost:8080/",
     "height": 444
    },
    "id": "GvcnyQxvdypg",
    "outputId": "78e19818-59d9-46c5-98ba-a6ae3c0a8352"
   },
   "outputs": [
    {
     "data": {
      "image/png": "[encoded data removed]",
      "text/plain": [
       "<Figure size 720x504 with 1 Axes>"
      ]
     },
     "metadata": {
      "needs_background": "light"
     },
     "output_type": "display_data"
    }
   ],
   "source": [
    "import scipy.cluster.hierarchy as shc\n",
    "\n",
    "plt.figure(figsize=(10, 7))\n",
    "plt.title(\"Customer Dendograms\")\n",
    "dend = shc.dendrogram(shc.linkage(X, metric='euclidean', method='complete'))\n",
    "plt.show()"
   ]
  },
  {
   "cell_type": "code",
   "execution_count": 28,
   "metadata": {
    "colab": {
     "base_uri": "https://localhost:8080/",
     "height": 281
    },
    "id": "mAeuuEApdypg",
    "outputId": "d4b05011-cd70-400f-9773-c8f92561ed2f"
   },
   "outputs": [
    {
     "data": {
      "image/png": "[encoded data removed]",
      "text/plain": [
       "<Figure size 432x288 with 1 Axes>"
      ]
     },
     "metadata": {
      "needs_background": "light"
     },
     "output_type": "display_data"
    }
   ],
   "source": [
    "from sklearn.cluster import AgglomerativeClustering\n",
    "\n",
    "model=AgglomerativeClustering(n_clusters=4, affinity='euclidean', linkage='complete').fit(X)\n",
    "#{“ward”, “complete”, “average”, “single”},\n",
    "\n",
    "# assign a cluster to each example\n",
    "yhatac=model.fit_predict(X)\n",
    "\n",
    "draw(X,yhatac)"
   ]
  },
  {
   "cell_type": "markdown",
   "metadata": {
    "id": "uhIlVYF3dypj"
   },
   "source": [
    "##### À partir de notre ensemble de textes"
   ]
  },
  {
   "cell_type": "code",
   "execution_count": 29,
   "metadata": {
    "colab": {
     "base_uri": "https://localhost:8080/",
     "height": 447
    },
    "id": "9Gpc2eGkqa5y",
    "outputId": "bb4ac54a-7c6e-423c-a763-e6430ea34318"
   },
   "outputs": [
    {
     "data": {
      "image/png": "[encoded data removed]",
      "text/plain": [
       "<Figure size 720x504 with 1 Axes>"
      ]
     },
     "metadata": {
      "needs_background": "light"
     },
     "output_type": "display_data"
    }
   ],
   "source": [
    "plt.figure(figsize=(10, 7))\n",
    "plt.title(\"Customer Dendograms\")\n",
    "dend = shc.dendrogram(shc.linkage(tfidf_Matrix, metric='euclidean', method='complete'))\n",
    "plt.show()"
   ]
  },
  {
   "cell_type": "markdown",
   "metadata": {
    "id": "GxoIO7ELqa5y"
   },
   "source": [
    "#### <font color = 'E3A440'>3.3.3. DBSCAN</font>"
   ]
  },
  {
   "cell_type": "code",
   "execution_count": 30,
   "metadata": {
    "colab": {
     "base_uri": "https://localhost:8080/",
     "height": 281
    },
    "id": "cmjudHHhqa5z",
    "outputId": "e90df4c5-ba3c-471f-8fb0-a53f5d9750c6"
   },
   "outputs": [
    {
     "data": {
      "image/png": "[encoded data removed]",
      "text/plain": [
       "<Figure size 432x288 with 1 Axes>"
      ]
     },
     "metadata": {
      "needs_background": "light"
     },
     "output_type": "display_data"
    }
   ],
   "source": [
    "from sklearn.cluster import DBSCAN\n",
    "\n",
    "model = DBSCAN(eps=0.2, min_samples=4, metric=\"euclidean\").fit(X)\n",
    "\n",
    "# assign a cluster to each example\n",
    "yhatdbs=model.fit_predict(X)\n",
    "\n",
    "draw(X,yhatdbs)"
   ]
  },
  {
   "cell_type": "markdown",
   "metadata": {
    "id": "_MCWDICTdypk"
   },
   "source": [
    "#### <font color = 'E3A440'>3.3.4. Analyse du contenu des groupes</font>"
   ]
  },
  {
   "cell_type": "code",
   "execution_count": 31,
   "metadata": {
    "colab": {
     "base_uri": "https://localhost:8080/",
     "height": 299
    },
    "id": "A0PKzHp3dypk",
    "outputId": "2c5b1145-ae39-425d-dc93-7dc1e78e11d0"
   },
   "outputs": [
    {
     "data": {
      "image/png": "[encoded data removed]",
      "text/plain": [
       "<Figure size 432x288 with 1 Axes>"
      ]
     },
     "metadata": {
      "needs_background": "light"
     },
     "output_type": "display_data"
    },
    {
     "name": "stdout",
     "output_type": "stream",
     "text": [
      "Silhouette= 0.721826710101402\n"
     ]
    }
   ],
   "source": [
    "model = KMeans(n_clusters=4, max_iter=20, n_init=1, init=\"random\", random_state=1).fit(X)\n",
    "\n",
    "# assign a cluster to each example\n",
    "labels = model.predict(X)\n",
    "\n",
    "draw(X,labels)\n",
    "\n",
    "print(\"Silhouette=\", silhouette_score(X, labels, metric=\"euclidean\"))"
   ]
  },
  {
   "cell_type": "code",
   "execution_count": 32,
   "metadata": {
    "colab": {
     "base_uri": "https://localhost:8080/"
    },
    "id": "kjigF2JMdypl",
    "outputId": "a4b6150d-c74a-4d35-8475-8d1745a95ee6"
   },
   "outputs": [
    {
     "name": "stdout",
     "output_type": "stream",
     "text": [
      "Cluster 0 : size = 120\n",
      "Cluster 1 : size = 250\n",
      "Cluster 2 : size = 250\n",
      "Cluster 3 : size = 130\n",
      "Cluster 4 : size = 250\n"
     ]
    }
   ],
   "source": [
    "clusters = unique(yhatkm)\n",
    "\n",
    "for cluster in clusters:\n",
    "    C = X[yhatkm[:] == cluster]\n",
    "    labels=yhatkm[yhatkm[:] == cluster]\n",
    "    print('Cluster %1.0f : size = %.0f' % (cluster, len(C)))"
   ]
  },
  {
   "cell_type": "code",
   "execution_count": 33,
   "metadata": {
    "colab": {
     "base_uri": "https://localhost:8080/",
     "height": 1000
    },
    "id": "wHJQ7Iglqa51",
    "outputId": "4ba46b3b-94a4-4053-fb47-744cb1f49a61"
   },
   "outputs": [
    {
     "data": {
      "image/png": "[encoded data removed]",
      "text/plain": [
       "<Figure size 432x288 with 1 Axes>"
      ]
     },
     "metadata": {
      "needs_background": "light"
     },
     "output_type": "display_data"
    },
    {
     "data": {
      "image/png": "[encoded data removed]",
      "text/plain": [
       "<Figure size 432x288 with 1 Axes>"
      ]
     },
     "metadata": {
      "needs_background": "light"
     },
     "output_type": "display_data"
    },
    {
     "data": {
      "image/png": "[encoded data removed]",
      "text/plain": [
       "<Figure size 432x288 with 1 Axes>"
      ]
     },
     "metadata": {
      "needs_background": "light"
     },
     "output_type": "display_data"
    },
    {
     "data": {
      "image/png": "[encoded data removed]",
      "text/plain": [
       "<Figure size 432x288 with 1 Axes>"
      ]
     },
     "metadata": {
      "needs_background": "light"
     },
     "output_type": "display_data"
    },
    {
     "data": {
      "image/png": "[encoded data removed]",
      "text/plain": [
       "<Figure size 432x288 with 1 Axes>"
      ]
     },
     "metadata": {
      "needs_background": "light"
     },
     "output_type": "display_data"
    }
   ],
   "source": [
    "for cluster in clusters:\n",
    "    C = X[yhatkm[:] == cluster]\n",
    "    fig1, ax1 = plt.subplots()\n",
    "    ax1.set_title('Cluster %1.0f' % (cluster))\n",
    "    ax1.boxplot(C);"
   ]
  },
  {
   "cell_type": "markdown",
   "metadata": {
    "id": "l4wTUIPWZEX-"
   },
   "source": [
    "# <font color = 'E3A440'>4. Méthodes supervisées</font>\n",
    "\n",
    "\n",
    "## <font color = 'E3A440'>4.1. Perceptron multicouches</font>"
   ]
  },
  {
   "cell_type": "code",
   "execution_count": 34,
   "metadata": {
    "id": "vNzsFIL5qa51"
   },
   "outputs": [],
   "source": [
    "text2=\"\"\"At eight o'clock, on Thursday morning, the great Arthur didn't feel VERY good.\n",
    "This morning, at nine o'clock, Arthur is feeling better.\n",
    "A dog runs in the street.\n",
    "In my city, cats run in the street.\n",
    "A little boy is running in the street.\n",
    "Arthur is my dog, we love to walk in the street together.\"\"\""
   ]
  },
  {
   "cell_type": "code",
   "execution_count": 35,
   "metadata": {
    "id": "S5NFJMMpqa51"
   },
   "outputs": [
    {
     "name": "stdout",
     "output_type": "stream",
     "text": [
      "     arthur       boy       cat      citi       dog      feel      good  \\\n",
      "0  0.129833  0.000000  0.000000  0.000000  0.000000  0.153781  0.187535   \n",
      "1  0.296832  0.000000  0.000000  0.000000  0.000000  0.351584  0.000000   \n",
      "2  0.000000  0.000000  0.000000  0.000000  0.389447  0.000000  0.000000   \n",
      "3  0.000000  0.000000  0.304361  0.304361  0.000000  0.000000  0.000000   \n",
      "4  0.000000  0.304361  0.000000  0.000000  0.000000  0.000000  0.000000   \n",
      "5  0.168627  0.000000  0.000000  0.000000  0.199731  0.000000  0.000000   \n",
      "\n",
      "      great     littl      love      morn       run    street  thursday  \\\n",
      "0  0.187535  0.000000  0.000000  0.153781  0.000000  0.000000  0.187535   \n",
      "1  0.000000  0.000000  0.000000  0.351584  0.000000  0.000000  0.000000   \n",
      "2  0.000000  0.000000  0.000000  0.000000  0.328798  0.281755  0.000000   \n",
      "3  0.000000  0.000000  0.000000  0.000000  0.210713  0.180565  0.000000   \n",
      "4  0.000000  0.304361  0.000000  0.000000  0.210713  0.180565  0.000000   \n",
      "5  0.000000  0.000000  0.243571  0.000000  0.000000  0.144500  0.000000   \n",
      "\n",
      "       walk  \n",
      "0  0.000000  \n",
      "1  0.000000  \n",
      "2  0.000000  \n",
      "3  0.000000  \n",
      "4  0.000000  \n",
      "5  0.243571  \n"
     ]
    }
   ],
   "source": [
    "# Clean\n",
    "sentences2 = nltk.sent_tokenize(text2)\n",
    "cleaned_sentences2 = [CleaningText(sent, reduce = 'stem', list_pos_to_keep = ['NOUN','ADJ','VERB']) for sent in sentences2]\n",
    "\n",
    "# Calculate the tfidf matrix\n",
    "freq_term_DTM2 = vectorized.fit_transform([[w for w, pos in sent] for sent in cleaned_sentences2])\n",
    "tfidf = TfidfTransformer(norm='l1')\n",
    "tfidf_DTM2 = tfidf.fit_transform(freq_term_DTM2)\n",
    "\n",
    "# convert in Dataframe for pedagogical reason\n",
    "tfidf_Matrix2 = pd.DataFrame(tfidf_DTM2.toarray(), columns =  [k for k, v in sorted(vectorized.vocabulary_.items(), key=lambda item: item[1])] )\n",
    "tfidf_Array2 = tfidf_DTM2.toarray()\n",
    "print(tfidf_Matrix2)\n"
   ]
  },
  {
   "cell_type": "code",
   "execution_count": 36,
   "metadata": {
    "id": "NWY4EBh7qa51"
   },
   "outputs": [],
   "source": [
    "from sklearn.neural_network import MLPClassifier\n",
    "\n",
    "#split the data\n",
    "#X_train, X_test, y_train, y_test = train_test_split(X, y, test_size = 0.3) \n",
    "\n",
    "X_train, X_test = tfidf_Array2[:5,:], tfidf_Array2[5:,:]\n",
    "y_train, y_test = [1,1,2,2,2],[2]"
   ]
  },
  {
   "cell_type": "code",
   "execution_count": 37,
   "metadata": {
    "colab": {
     "base_uri": "https://localhost:8080/"
    },
    "id": "Uhb02H1jqa52",
    "outputId": "6ada981a-8934-47e7-bbca-f4a3b56018ba"
   },
   "outputs": [
    {
     "data": {
      "text/plain": [
       "MLPClassifier(hidden_layer_sizes=5, learning_rate_init=0.01, max_iter=300,\n",
       "              random_state=1)"
      ]
     },
     "execution_count": 37,
     "metadata": {},
     "output_type": "execute_result"
    }
   ],
   "source": [
    "clf = MLPClassifier(random_state=1, max_iter=300, hidden_layer_sizes=5, learning_rate=\"constant\", learning_rate_init=0.01)\n",
    "clf.fit(X_train, y_train)"
   ]
  },
  {
   "cell_type": "code",
   "execution_count": 38,
   "metadata": {
    "id": "A5IJVA3Fyr_C"
   },
   "outputs": [],
   "source": [
    "y_valid=clf.predict(X_train)"
   ]
  },
  {
   "cell_type": "code",
   "execution_count": 39,
   "metadata": {
    "id": "Fsxv-OIKyzPE"
   },
   "outputs": [],
   "source": [
    "y_pred=clf.predict(X_test)"
   ]
  },
  {
   "cell_type": "code",
   "execution_count": 50,
   "metadata": {
    "colab": {
     "base_uri": "https://localhost:8080/"
    },
    "id": "tZKTB0Lwqa52",
    "outputId": "7a392cdb-d2c3-4641-f1f6-438a39572e22"
   },
   "outputs": [
    {
     "name": "stdout",
     "output_type": "stream",
     "text": [
      "Learning errors\n",
      "    Accurary =  100.0\n",
      "\n",
      "Prediction errors\n",
      "    Accurary =  100.0\n"
     ]
    }
   ],
   "source": [
    "from sklearn.metrics import accuracy_score\n",
    "\n",
    "y_valid=clf.predict(X_train)\n",
    "y_pred=clf.predict(X_test)\n",
    "\n",
    "print(\"Learning errors\")\n",
    "print(\"    Accurary = \", accuracy_score(y_train, y_valid)*100)\n",
    "\n",
    "print(\"\\nPrediction errors\")\n",
    "print(\"    Accurary = \", accuracy_score(y_test, y_pred)*100)"
   ]
  },
  {
   "cell_type": "code",
   "execution_count": 41,
   "metadata": {
    "colab": {
     "base_uri": "https://localhost:8080/"
    },
    "id": "hZjRjr3zqa53",
    "outputId": "90030246-4325-465c-b038-52e5c6517f91"
   },
   "outputs": [
    {
     "name": "stdout",
     "output_type": "stream",
     "text": [
      "\n",
      "** Learning performances: **\n",
      "Confusion Matrix: \n",
      "[[2 0]\n",
      " [0 3]]\n",
      "Accuracy :  100.0\n",
      "** Prediction performances: **\n",
      "Confusion Matrix: \n",
      "[[1]]\n",
      "Accuracy :  100.0\n"
     ]
    }
   ],
   "source": [
    "from sklearn.metrics import confusion_matrix\n",
    "\n",
    "print(\"\\n** Learning performances: **\") \n",
    "print(\"Confusion Matrix: \") \n",
    "print(confusion_matrix(y_train, y_valid))\n",
    "print (\"Accuracy : \", accuracy_score(y_train, y_valid)*100) \n",
    "print(\"** Prediction performances: **\") \n",
    "print(\"Confusion Matrix: \") \n",
    "print(confusion_matrix(y_test, y_pred))\n",
    "print (\"Accuracy : \", accuracy_score(y_test,y_pred)*100) "
   ]
  },
  {
   "cell_type": "markdown",
   "metadata": {
    "id": "GQvxM4dEdypm"
   },
   "source": [
    "# <font color = 'E3A440'>5. Exercice : Analyse de commentaires de blogs</font>\n",
    "\n",
    "\n",
    "La base de données `20 Newsgroups` est une collection d'environ 20,000 documents segmentés en plus ou moins 20 thèmatiques différentes.\n",
    "\n",
    "Les données sont téléchargées à partir du module `sklearn.datasets` et sont reorganisées en format tabulaire. Pour des raisons pédagogiques, cet exercice prévoit l'utilisation d'un échantillon d'environt 3,000 documents segmentés en 3 groupes différents : \n",
    " 1. `rec.autos`\n",
    " 2. `rec.sport.hockey`\n",
    " 3. `sci.med`\n",
    "\n",
    "Pendant l'exercice, le participant sera invité à remplir les parties manquantes du code qui sont indiquées avec `...` (trois points)."
   ]
  },
  {
   "cell_type": "code",
   "execution_count": 42,
   "metadata": {
    "id": "chRMurZE2dK6"
   },
   "outputs": [],
   "source": [
    "from sklearn.datasets import fetch_20newsgroups"
   ]
  },
  {
   "cell_type": "code",
   "execution_count": 43,
   "metadata": {
    "colab": {
     "base_uri": "https://localhost:8080/"
    },
    "id": "7YALuaU53SY6",
    "outputId": "8739a350-4666-4c42-f670-72f534190396"
   },
   "outputs": [
    {
     "name": "stdout",
     "output_type": "stream",
     "text": [
      "['alt.atheism', 'comp.graphics', 'comp.os.ms-windows.misc', 'comp.sys.ibm.pc.hardware', 'comp.sys.mac.hardware', 'comp.windows.x', 'misc.forsale', 'rec.autos', 'rec.motorcycles', 'rec.sport.baseball', 'rec.sport.hockey', 'sci.crypt', 'sci.electronics', 'sci.med', 'sci.space', 'soc.religion.christian', 'talk.politics.guns', 'talk.politics.mideast', 'talk.politics.misc', 'talk.religion.misc']\n",
      "['rec.autos', 'rec.sport.hockey', 'sci.med']\n"
     ]
    }
   ],
   "source": [
    "archive20newsgroup = fetch_20newsgroups(subset = 'all')\n",
    "df = pd.DataFrame({'Text': archive20newsgroup.data, 'target': archive20newsgroup.target})\n",
    "target_names = archive20newsgroup.target_names\n",
    "print(target_names)\n",
    "# subset selection\n",
    "target_selected = [7,10,13]\n",
    "df = df[df.target.isin(target_selected)]\n",
    "target_names = [x for idx, x in enumerate(target_names) if idx in target_selected]\n",
    "print(target_names)"
   ]
  },
  {
   "cell_type": "markdown",
   "metadata": {
    "id": "PX2raKXvdOJB"
   },
   "source": [
    "La base de données est composée de 2,979 documents, segmentés en 3 thématiques."
   ]
  },
  {
   "cell_type": "code",
   "execution_count": 44,
   "metadata": {
    "colab": {
     "base_uri": "https://localhost:8080/"
    },
    "id": "l1c-fDi_Ck8_",
    "outputId": "290a830e-c0b8-4f2a-cf25-dafc02db1e35"
   },
   "outputs": [
    {
     "data": {
      "text/plain": [
       "(2979, 2)"
      ]
     },
     "execution_count": 44,
     "metadata": {},
     "output_type": "execute_result"
    }
   ],
   "source": [
    "df.shape"
   ]
  },
  {
   "cell_type": "markdown",
   "metadata": {
    "id": "wBaFWoDGdypn"
   },
   "source": [
    "Voici les noms de variables disponibles."
   ]
  },
  {
   "cell_type": "code",
   "execution_count": 45,
   "metadata": {
    "colab": {
     "base_uri": "https://localhost:8080/"
    },
    "id": "_1udmVkRdypn",
    "outputId": "1c2dd1d4-292c-4b27-94ee-94e2668347e3"
   },
   "outputs": [
    {
     "data": {
      "text/plain": [
       "Index(['Text', 'target'], dtype='object')"
      ]
     },
     "execution_count": 45,
     "metadata": {},
     "output_type": "execute_result"
    }
   ],
   "source": [
    "df.columns"
   ]
  },
  {
   "cell_type": "markdown",
   "metadata": {
    "id": "ONaA5iThdypo"
   },
   "source": [
    "Voici une observation (une ligne du tableau de données):"
   ]
  },
  {
   "cell_type": "code",
   "execution_count": 46,
   "metadata": {
    "colab": {
     "base_uri": "https://localhost:8080/",
     "height": 89
    },
    "id": "bVhmJgQQdypo",
    "outputId": "6ab7cef5-a5b2-4d8e-e167-0a330f803780"
   },
   "outputs": [
    {
     "data": {
      "text/plain": [
       "\"From: Mamatha Devineni Ratnam <mr47+@andrew.cmu.edu>\\nSubject: Pens fans reactions\\nOrganization: Post Office, Carnegie Mellon, Pittsburgh, PA\\nLines: 12\\nNNTP-Posting-Host: po4.andrew.cmu.edu\\n\\n\\n\\nI am sure some bashers of Pens fans are pretty confused about the lack\\nof any kind of posts about the recent Pens massacre of the Devils. Actually,\\nI am  bit puzzled too and a bit relieved. However, I am going to put an end\\nto non-PIttsburghers' relief with a bit of praise for the Pens. Man, they\\nare killing those Devils worse than I thought. Jagr just showed you why\\nhe is much better than his regular season stats. He is also a lot\\nfo fun to watch in the playoffs. Bowman should let JAgr have a lot of\\nfun in the next couple of games since the Pens are going to beat the pulp out of Jersey anyway. I was very disappointed not to see the Islanders lose the final\\nregular season game.          PENS RULE!!!\\n\\n\""
      ]
     },
     "execution_count": 46,
     "metadata": {},
     "output_type": "execute_result"
    }
   ],
   "source": [
    "df.iloc[0].Text"
   ]
  },
  {
   "cell_type": "markdown",
   "metadata": {
    "id": "Iicfl21wdypm"
   },
   "source": [
    "## <font color = 'E3A440'>5.1 Présentation de l'exercice </font>\n",
    "\n",
    "L'exercise est composé de deux parties:\n",
    "\n",
    " 1. Remplir les partie de code manquant (qui sont indiqués avec les `...`)\n",
    " 2. Changer les paramètres du prétraitement pour expérimenter les impacts qu'ils peuvent avoir sur les méthodes non supervisées et supervisées. En particulier, vous êtes invités à expérimenter les opérations suivantes :\n",
    "\n",
    "    2.1. Choisir une sélection de POS tag différents (fonction `CleaningText()`)\n",
    "\n",
    "    2.2. Changer la seuil de fréquence minimale pour retenir un mot dans la matrice (fonction `CountVectorizer()`)\n",
    "\n",
    "    2.3 Ajouter des bigrams et trigrams lors de la vectorisation (fonction `CountVectorizer()`)\n",
    "\n",
    "Si vous voulez aller plus loin, vous pourriez aussi changer les paramètres des algorithmne non supervisés et supervisés pour aanlyser les impacts sur les résultats. \n"
   ]
  },
  {
   "cell_type": "markdown",
   "metadata": {
    "id": "jXJr5qVs3x3y"
   },
   "source": [
    "### <font color = 'E3A440'> a. Construction de certaines fonctions qui serviront plus tard.</font>\n"
   ]
  },
  {
   "cell_type": "code",
   "execution_count": 47,
   "metadata": {
    "id": "viU9xTMeOdZj"
   },
   "outputs": [],
   "source": [
    "def plot_data_by_cluster(DTM, cls_kmeans, figsize = (16,10) ):\n",
    "    ## Reduction of dimension to 2 for visualisation reasons\n",
    "    from sklearn.manifold import TSNE\n",
    "    import matplotlib.pyplot as plt\n",
    "    import time\n",
    "    time_start = time.time()\n",
    "    tsne = TSNE(n_components=2, verbose=1, perplexity=30, n_iter=1000,metric='cosine', learning_rate=10, random_state = 794)\n",
    "    reduc_dim_results = tsne.fit_transform(DTM)\n",
    "    print('t-SNE done! Time elapsed: {} seconds'.format(time.time()-time_start))\n",
    "\n",
    "    ## Create data structure for plotting\n",
    "    df_reduction = pd.DataFrame()\n",
    "    df_reduction['y'] =  cls_kmeans.labels_\n",
    "    df_reduction['1-dim'] = reduc_dim_results[:,0]\n",
    "    df_reduction['2-dim'] = reduc_dim_results[:,1]\n",
    "\n",
    "    ## Generate the plot\n",
    "    import seaborn as sns\n",
    "    import colorcet as cc\n",
    "    plt.figure(figsize = figsize)\n",
    "    sns.scatterplot(data = df_reduction,\n",
    "                    x=\"1-dim\",\n",
    "                    y=\"2-dim\",\n",
    "                    hue=\"y\",\n",
    "                    palette = sns.color_palette(cc.glasbey, n_colors = cls_kmeans.n_clusters),)\n",
    "\n",
    "    plt.show()\n",
    "\n",
    "def prepare_data_for_WC(DTM, vocabulary_dtm):\n",
    "    import scipy\n",
    "    # compute total frequency for each word\n",
    "    values_words = sum(DTM)\n",
    "    # values_words = sum(tfidf_matrix)\n",
    "    # verify type result and prepare data for wordcloud\n",
    "    if type(values_words) is np.ndarray:\n",
    "        values_words = [float(value) for value in np.nditer(values_words)]\n",
    "    elif type(values_words) is scipy.sparse.csr.csr_matrix:\n",
    "        values_words = [float(value) for value in np.nditer(values_words.todense())]\n",
    "    else:\n",
    "        print(\"Matrix in argument DTM has to be one of these two data classes:  'scipy.sparse.csr.csr_matrix' or 'numpy.ndarray'\")\n",
    "    ##Retrieve the word fromthe vocaboulary and sorting them based on the frequency\n",
    "    list_mots = sorted(vocabulary_dtm.items(), key= lambda x:x[1])\n",
    "    list_mots = [word for (word,idx) in  list_mots]\n",
    "    words = zip(list_mots, values_words)\n",
    "    words = sorted(words, key= lambda x:x[1], reverse=True)\n",
    "    ## prepare data structure for wordcloud\n",
    "    result_for_WC = {}\n",
    "    #iterating over the tuples lists\n",
    "    for (key, value) in words:\n",
    "        result_for_WC[key] = value\n",
    "    #\n",
    "    return result_for_WC\n",
    "\n",
    "\n",
    "def wordcloud_par_cluster(wordcloud, DTM, cls_kmeans, vocab, first_n_words=10, figsize=(18, 16), fontsize=32, plot_wordcloud = True, lst_clust = [], title_in_plot = \"Clust_\"):\n",
    "\n",
    "        \"\"\"\n",
    "        wordcloud; A WordCloud function.\n",
    "        DTM; A Docuemnt-Term Matrix\n",
    "        vocab; It is a vocabulary from skllarn vectorizer\n",
    "        first_n_words = 10; How many words to print\n",
    "        figsize = (18, 16); Size of the plot. (this is the argument of this line plt.figure(figsize=figsize))\n",
    "        fontsize = 32; Size of title font\n",
    "        lst_clust = []; The list of cluster to plot. If empty, all the clusters are plotted\n",
    "        title_in_plot = \"Clust_\"; title to put on top of plot \\n\n",
    "        \"\"\"\n",
    "        import numpy\n",
    "        import scipy\n",
    "        \n",
    "        if not lst_clust:\n",
    "            lst_clust = list(range(cls_kmeans.n_clusters))\n",
    "\n",
    "        for x in lst_clust:\n",
    "            DTM_temp = DTM[cls_kmeans.labels_ == x]\n",
    "            result_for_WC= prepare_data_for_WC(DTM_temp, vocab)\n",
    "            ###\n",
    "            if plot_wordcloud == True:\n",
    "                plot = wordcloud.generate_from_frequencies(result_for_WC)\n",
    "                plt.figure(figsize=figsize)\n",
    "                plt.imshow(plot)\n",
    "                plt.title(title_in_plot + str(x) + '  N. of documents=' + str(DTM_temp.shape[0]),\n",
    "                        fontsize = fontsize,\n",
    "                        bbox=dict(facecolor='red', alpha=0.5))\n",
    "                plt.axis('off')\n",
    "                plt.show()\n",
    "            print(f\"Most frequent words for cluster {x} of size {str(DTM_temp.shape[0])} docs: \", list(result_for_WC)[0:first_n_words])"
   ]
  },
  {
   "cell_type": "markdown",
   "metadata": {
    "id": "WiWwUuMidypo"
   },
   "source": [
    "### <font color = 'E3A440'> b. Annotation, nettoyage et vectorisation des blogs (Rappels)</font>\n",
    "\n",
    "Nous utilisons la fonction écrite précédemment pour nettoyer les unités lexicales. Pour ce premier test, nous conservons seulement les adjectifs.\n",
    "\n",
    "Cette opération prendra quelques secondes. "
   ]
  },
  {
   "cell_type": "code",
   "execution_count": 51,
   "metadata": {
    "id": "KnDIzjtudypo"
   },
   "outputs": [],
   "source": [
    "cleaned_20news = [CleaningText(sent, reduce = 'lemma', list_pos_to_keep = [...], Stopwords_to_add=['http','following']) for sent in list(df['Text'])]"
   ]
  },
  {
   "cell_type": "markdown",
   "metadata": {
    "id": "qcExCuEpdypp"
   },
   "source": [
    "Dans l'étape de vectorisation, nous retenons les mots qui apparaissent dans au moins 5 documents (min_df = 5)."
   ]
  },
  {
   "cell_type": "code",
   "execution_count": 52,
   "metadata": {
    "id": "deLwyrVodypp"
   },
   "outputs": [],
   "source": [
    "# Initialisation de l'objet\n",
    "def identity_tokenizer(text):\n",
    "    return text\n",
    "# Transforming the word in frequencies\n",
    "vectorized = CountVectorizer(lowercase = False, # Convert all characters to lowercase before tokenizing\n",
    "                             min_df = ..., # Ignore terms that have a document frequency strictly lower than the given threshold \n",
    "                             max_df = 1200, # Ignore terms that have a document frequency strictly higher than the given threshold (corpus-specific stop words)\n",
    "                             stop_words = stopwords.words('english'), # Remove the list of words provided\n",
    "                             ngram_range = (1, 3), # Get the lower and upper boundary of the range of n-values for different word n-grams or char n-grams to be extracted\n",
    "                             tokenizer=identity_tokenizer) # Override the string tokenization step while preserving the preprocessing and n-grams generation steps"
   ]
  },
  {
   "cell_type": "code",
   "execution_count": 53,
   "metadata": {
    "colab": {
     "base_uri": "https://localhost:8080/"
    },
    "id": "kXmJqhK_EoBE",
    "outputId": "81b2d84b-beb3-4450-a582-5d890d906cbf"
   },
   "outputs": [
    {
     "name": "stderr",
     "output_type": "stream",
     "text": [
      "/Users/bragard/opt/anaconda3/lib/python3.8/site-packages/sklearn/feature_extraction/text.py:383: UserWarning: Your stop_words may be inconsistent with your preprocessing. Tokenizing the stop words generated tokens [\"'\", 'b', 'c', 'e', 'f', 'g', 'h', 'j', 'l', 'n', 'p', 'r', 'u', 'v', 'w'] not in stop_words.\n",
      "  warnings.warn('Your stop_words may be inconsistent with '\n"
     ]
    },
    {
     "data": {
      "text/plain": [
       "<2979x13655 sparse matrix of type '<class 'numpy.int64'>'\n",
       "\twith 207092 stored elements in Compressed Sparse Row format>"
      ]
     },
     "execution_count": 53,
     "metadata": {},
     "output_type": "execute_result"
    }
   ],
   "source": [
    "freq_term_DTM_papers = vectorized.fit_transform([[w for w, pos in sent if len(w) > 2] for sent in cleaned_20news])\n",
    "freq_term_DTM_papers"
   ]
  },
  {
   "cell_type": "code",
   "execution_count": 54,
   "metadata": {
    "id": "El2s_eKbdypp"
   },
   "outputs": [
    {
     "name": "stdout",
     "output_type": "stream",
     "text": [
      "      1960s  aaa  aamir  aamir hafeez  aamir hafeez qazi  aamir qazi  \\\n",
      "0       0.0  0.0    0.0           0.0                0.0         0.0   \n",
      "1       0.0  0.0    0.0           0.0                0.0         0.0   \n",
      "2       0.0  0.0    0.0           0.0                0.0         0.0   \n",
      "3       0.0  0.0    0.0           0.0                0.0         0.0   \n",
      "4       0.0  0.0    0.0           0.0                0.0         0.0   \n",
      "...     ...  ...    ...           ...                ...         ...   \n",
      "2974    0.0  0.0    0.0           0.0                0.0         0.0   \n",
      "2975    0.0  0.0    0.0           0.0                0.0         0.0   \n",
      "2976    0.0  0.0    0.0           0.0                0.0         0.0   \n",
      "2977    0.0  0.0    0.0           0.0                0.0         0.0   \n",
      "2978    0.0  0.0    0.0           0.0                0.0         0.0   \n",
      "\n",
      "      aamir qazi aamir  aamir qazi qazi  aargh  aargh great  ...   zisfein  \\\n",
      "0                  0.0              0.0    0.0          0.0  ...  0.000000   \n",
      "1                  0.0              0.0    0.0          0.0  ...  0.000000   \n",
      "2                  0.0              0.0    0.0          0.0  ...  0.000000   \n",
      "3                  0.0              0.0    0.0          0.0  ...  0.000000   \n",
      "4                  0.0              0.0    0.0          0.0  ...  0.000000   \n",
      "...                ...              ...    ...          ...  ...       ...   \n",
      "2974               0.0              0.0    0.0          0.0  ...  0.000000   \n",
      "2975               0.0              0.0    0.0          0.0  ...  0.000000   \n",
      "2976               0.0              0.0    0.0          0.0  ...  0.000000   \n",
      "2977               0.0              0.0    0.0          0.0  ...  0.035871   \n",
      "2978               0.0              0.0    0.0          0.0  ...  0.000000   \n",
      "\n",
      "      zisfein subject  zmodem  zmodem zcomm  zmodem zcomm dsz  zolmer  zombo  \\\n",
      "0            0.000000     0.0           0.0               0.0     0.0    0.0   \n",
      "1            0.000000     0.0           0.0               0.0     0.0    0.0   \n",
      "2            0.000000     0.0           0.0               0.0     0.0    0.0   \n",
      "3            0.000000     0.0           0.0               0.0     0.0    0.0   \n",
      "4            0.000000     0.0           0.0               0.0     0.0    0.0   \n",
      "...               ...     ...           ...               ...     ...    ...   \n",
      "2974         0.000000     0.0           0.0               0.0     0.0    0.0   \n",
      "2975         0.000000     0.0           0.0               0.0     0.0    0.0   \n",
      "2976         0.000000     0.0           0.0               0.0     0.0    0.0   \n",
      "2977         0.012247     0.0           0.0               0.0     0.0    0.0   \n",
      "2978         0.000000     0.0           0.0               0.0     0.0    0.0   \n",
      "\n",
      "      zone  zubov  zubov andersson  \n",
      "0      0.0    0.0              0.0  \n",
      "1      0.0    0.0              0.0  \n",
      "2      0.0    0.0              0.0  \n",
      "3      0.0    0.0              0.0  \n",
      "4      0.0    0.0              0.0  \n",
      "...    ...    ...              ...  \n",
      "2974   0.0    0.0              0.0  \n",
      "2975   0.0    0.0              0.0  \n",
      "2976   0.0    0.0              0.0  \n",
      "2977   0.0    0.0              0.0  \n",
      "2978   0.0    0.0              0.0  \n",
      "\n",
      "[2979 rows x 13655 columns]\n"
     ]
    }
   ],
   "source": [
    "# Calculate the tfidf matrix\n",
    "tfidf = TfidfTransformer(norm='l1')\n",
    "tfidf_DTM_papers = tfidf.fit_transform(freq_term_DTM_papers)\n",
    "#print(tfidf_DTM)\n",
    "\n",
    "tfidf_DF_papers = pd.DataFrame(tfidf_DTM_papers.toarray(), columns =  [k for k, v in sorted(vectorized.vocabulary_.items(), key=lambda item: item[1])] )\n",
    "print(tfidf_DF_papers)"
   ]
  },
  {
   "cell_type": "markdown",
   "metadata": {
    "id": "B37DCDHqdypp"
   },
   "source": [
    "## <font color = 'E3A440'>5.2 Question méthodes non supervisées </font>\n",
    "\n",
    "1. Séparer les messages en groupes homogènes en utilisant un clustering\n"
   ]
  },
  {
   "cell_type": "markdown",
   "metadata": {
    "id": "HwYavKEXT14M"
   },
   "source": [
    "Évaluer la meilleure partition"
   ]
  },
  {
   "cell_type": "code",
   "execution_count": 55,
   "metadata": {
    "colab": {
     "base_uri": "https://localhost:8080/",
     "height": 600
    },
    "id": "43eokkyp2_-I",
    "outputId": "e7c8c630-998a-4c31-9e5e-9eff10ddb372"
   },
   "outputs": [
    {
     "data": {
      "image/png": "[encoded data removed]",
      "text/plain": [
       "<Figure size 504x504 with 1 Axes>"
      ]
     },
     "metadata": {
      "needs_background": "light"
     },
     "output_type": "display_data"
    }
   ],
   "source": [
    "max=30\n",
    "Sil=np.zeros(max)\n",
    "x_axis=np.zeros(max)\n",
    "\n",
    "tfidf_DTM_papers_norm = Normalizer().transform(tfidf_DTM_papers)\n",
    "\n",
    "for m in range (2,max) :\n",
    "\n",
    "    model = KMeans(n_clusters=m, max_iter=100, n_init=1, init=\"k-means++\", random_state=3).fit(tfidf_DTM_papers_norm)\n",
    "\n",
    "    # assign a cluster to each example\n",
    "    labels = model.predict(tfidf_DTM_papers_norm)\n",
    "\n",
    "    Sil[m]=silhouette_score(tfidf_DTM_papers_norm, labels, metric=\"cosine\")\n",
    "    x_axis[m]=m\n",
    "\n",
    "fig = plt.figure(figsize=(7, 7))\n",
    "a1 = fig.add_axes([0,0,1,1])\n",
    "l1 = a1.plot(x_axis,Sil,'ys-') # solid line with yellow colour and square marker\n",
    "a1.set_xlabel('k')\n",
    "a1.set_ylabel('Silhouette')\n",
    "a1.set_title('Evolution of indexes')\n",
    "a1.yaxis.grid(True)\n",
    "a1.xaxis.grid(True)\n",
    "plt.show()"
   ]
  },
  {
   "cell_type": "markdown",
   "metadata": {
    "id": "4eKjz4S7UcEz"
   },
   "source": [
    "Ajouter le bon numéro de cluster à génèrer en substituant les trois points `...`"
   ]
  },
  {
   "cell_type": "code",
   "execution_count": 57,
   "metadata": {
    "colab": {
     "base_uri": "https://localhost:8080/"
    },
    "id": "Cyoqur3B2_-G",
    "outputId": "aeda085e-dbc2-4d15-a939-2269367bd28c"
   },
   "outputs": [
    {
     "name": "stdout",
     "output_type": "stream",
     "text": [
      "Silhouette= 0.008291263680550371\n"
     ]
    }
   ],
   "source": [
    "tfidf_DTM_papers_norm = Normalizer().transform(tfidf_DTM_papers.toarray())\n",
    "model = KMeans(n_clusters = ..., max_iter=200, n_init=1, init=\"k-means++\", random_state=1).fit(tfidf_DTM_papers_norm)\n",
    "# assign a cluster to each example\n",
    "labels = model.predict(tfidf_DTM_papers_norm)\n",
    "\n",
    "print(\"Silhouette=\", silhouette_score(tfidf_DTM_papers_norm, labels, metric=\"cosine\"))"
   ]
  },
  {
   "cell_type": "code",
   "execution_count": 58,
   "metadata": {
    "colab": {
     "base_uri": "https://localhost:8080/"
    },
    "id": "7OEMhbkB5Hpi",
    "outputId": "fd153296-1553-474b-c17f-81b10c4d8b5e"
   },
   "outputs": [
    {
     "data": {
      "text/plain": [
       "4"
      ]
     },
     "execution_count": 58,
     "metadata": {},
     "output_type": "execute_result"
    }
   ],
   "source": [
    "model.n_clusters"
   ]
  },
  {
   "cell_type": "code",
   "execution_count": 59,
   "metadata": {
    "colab": {
     "base_uri": "https://localhost:8080/"
    },
    "id": "zwD0TAy35fOK",
    "outputId": "9b587d5c-88be-413a-8170-5c2d76a40aa3"
   },
   "outputs": [
    {
     "data": {
      "text/plain": [
       "Counter({0: 948, 1: 1381, 2: 535, 3: 115})"
      ]
     },
     "execution_count": 59,
     "metadata": {},
     "output_type": "execute_result"
    }
   ],
   "source": [
    "Counter(model.labels_)"
   ]
  },
  {
   "cell_type": "code",
   "execution_count": 60,
   "metadata": {
    "colab": {
     "base_uri": "https://localhost:8080/",
     "height": 878
    },
    "id": "OHLnCyp64whb",
    "outputId": "5ce8ce2a-432a-4e5a-cba7-51bcd551ad19"
   },
   "outputs": [
    {
     "name": "stdout",
     "output_type": "stream",
     "text": [
      "[t-SNE] Computing 91 nearest neighbors...\n",
      "[t-SNE] Indexed 2979 samples in 0.013s...\n",
      "[t-SNE] Computed neighbors for 2979 samples in 1.556s...\n",
      "[t-SNE] Computed conditional probabilities for sample 1000 / 2979\n",
      "[t-SNE] Computed conditional probabilities for sample 2000 / 2979\n",
      "[t-SNE] Computed conditional probabilities for sample 2979 / 2979\n",
      "[t-SNE] Mean sigma: 0.305359\n",
      "[t-SNE] KL divergence after 50 iterations with early exaggeration: 83.299271\n",
      "[t-SNE] KL divergence after 1000 iterations: 1.691399\n",
      "t-SNE done! Time elapsed: 11.763361930847168 seconds\n"
     ]
    },
    {
     "ename": "ModuleNotFoundError",
     "evalue": "No module named 'colorcet'",
     "output_type": "error",
     "traceback": [
      "\u001b[0;31m---------------------------------------------------------------------------\u001b[0m",
      "\u001b[0;31mModuleNotFoundError\u001b[0m                       Traceback (most recent call last)",
      "\u001b[0;32m<ipython-input-60-b8c2ef83b858>\u001b[0m in \u001b[0;36m<module>\u001b[0;34m\u001b[0m\n\u001b[0;32m----> 1\u001b[0;31m \u001b[0mplot_data_by_cluster\u001b[0m\u001b[0;34m(\u001b[0m\u001b[0mtfidf_DTM_papers_norm\u001b[0m\u001b[0;34m,\u001b[0m \u001b[0mmodel\u001b[0m \u001b[0;34m)\u001b[0m\u001b[0;34m\u001b[0m\u001b[0;34m\u001b[0m\u001b[0m\n\u001b[0m",
      "\u001b[0;32m<ipython-input-47-2dc8f41425fa>\u001b[0m in \u001b[0;36mplot_data_by_cluster\u001b[0;34m(DTM, cls_kmeans, figsize)\u001b[0m\n\u001b[1;32m     17\u001b[0m     \u001b[0;31m## Generate the plot\u001b[0m\u001b[0;34m\u001b[0m\u001b[0;34m\u001b[0m\u001b[0;34m\u001b[0m\u001b[0m\n\u001b[1;32m     18\u001b[0m     \u001b[0;32mimport\u001b[0m \u001b[0mseaborn\u001b[0m \u001b[0;32mas\u001b[0m \u001b[0msns\u001b[0m\u001b[0;34m\u001b[0m\u001b[0;34m\u001b[0m\u001b[0m\n\u001b[0;32m---> 19\u001b[0;31m     \u001b[0;32mimport\u001b[0m \u001b[0mcolorcet\u001b[0m \u001b[0;32mas\u001b[0m \u001b[0mcc\u001b[0m\u001b[0;34m\u001b[0m\u001b[0;34m\u001b[0m\u001b[0m\n\u001b[0m\u001b[1;32m     20\u001b[0m     \u001b[0mplt\u001b[0m\u001b[0;34m.\u001b[0m\u001b[0mfigure\u001b[0m\u001b[0;34m(\u001b[0m\u001b[0mfigsize\u001b[0m \u001b[0;34m=\u001b[0m \u001b[0mfigsize\u001b[0m\u001b[0;34m)\u001b[0m\u001b[0;34m\u001b[0m\u001b[0;34m\u001b[0m\u001b[0m\n\u001b[1;32m     21\u001b[0m     sns.scatterplot(data = df_reduction,\n",
      "\u001b[0;31mModuleNotFoundError\u001b[0m: No module named 'colorcet'"
     ]
    }
   ],
   "source": [
    "plot_data_by_cluster(tfidf_DTM_papers_norm, model )"
   ]
  },
  {
   "cell_type": "code",
   "execution_count": 61,
   "metadata": {
    "colab": {
     "base_uri": "https://localhost:8080/"
    },
    "id": "40mECfJP4TK7",
    "outputId": "c3267ade-857f-4d0e-d57e-4687b44f8a01"
   },
   "outputs": [
    {
     "ename": "ModuleNotFoundError",
     "evalue": "No module named 'wordcloud'",
     "output_type": "error",
     "traceback": [
      "\u001b[0;31m---------------------------------------------------------------------------\u001b[0m",
      "\u001b[0;31mModuleNotFoundError\u001b[0m                       Traceback (most recent call last)",
      "\u001b[0;32m<ipython-input-61-04a59eb90739>\u001b[0m in \u001b[0;36m<module>\u001b[0;34m\u001b[0m\n\u001b[0;32m----> 1\u001b[0;31m \u001b[0;32mfrom\u001b[0m \u001b[0mwordcloud\u001b[0m \u001b[0;32mimport\u001b[0m \u001b[0mWordCloud\u001b[0m\u001b[0;34m\u001b[0m\u001b[0;34m\u001b[0m\u001b[0m\n\u001b[0m\u001b[1;32m      2\u001b[0m wordcloud_par_cluster(wordcloud = WordCloud(), # WordCloud function. \n\u001b[1;32m      3\u001b[0m                       \u001b[0mDTM\u001b[0m \u001b[0;34m=\u001b[0m \u001b[0mtfidf_DTM_papers_norm\u001b[0m\u001b[0;34m,\u001b[0m\u001b[0;31m# Document-Term Matrix\u001b[0m\u001b[0;34m\u001b[0m\u001b[0;34m\u001b[0m\u001b[0m\n\u001b[1;32m      4\u001b[0m                       \u001b[0mcls_kmeans\u001b[0m \u001b[0;34m=\u001b[0m \u001b[0mmodel\u001b[0m\u001b[0;34m,\u001b[0m \u001b[0;31m# Insert the result of a kmeans clustering\u001b[0m\u001b[0;34m\u001b[0m\u001b[0;34m\u001b[0m\u001b[0m\n\u001b[1;32m      5\u001b[0m                       \u001b[0mvocab\u001b[0m \u001b[0;34m=\u001b[0m \u001b[0mvectorized\u001b[0m\u001b[0;34m.\u001b[0m\u001b[0mvocabulary_\u001b[0m\u001b[0;34m,\u001b[0m \u001b[0;31m# a vocabulary from scikitlearn vectorizer\u001b[0m\u001b[0;34m\u001b[0m\u001b[0;34m\u001b[0m\u001b[0m\n",
      "\u001b[0;31mModuleNotFoundError\u001b[0m: No module named 'wordcloud'"
     ]
    }
   ],
   "source": [
    "from wordcloud import WordCloud\n",
    "wordcloud_par_cluster(wordcloud = WordCloud(), # WordCloud function. \n",
    "                      DTM = tfidf_DTM_papers_norm,# Document-Term Matrix \n",
    "                      cls_kmeans = model, # Insert the result of a kmeans clustering\n",
    "                      vocab = vectorized.vocabulary_, # a vocabulary from scikitlearn vectorizer\n",
    "                      first_n_words=10,#  It indicates how many words to print\n",
    "                      figsize=(12, 10),\n",
    "                      fontsize=32,\n",
    "                      plot_wordcloud = False, # Switch to True if you want to plot wordclouds\n",
    "                      lst_clust = [], # Insert a list of integer to get info about a selected number of cluster. It shows info of all the clustrs if empty list\n",
    "                      title_in_plot = \"Clust_\")"
   ]
  },
  {
   "cell_type": "code",
   "execution_count": 62,
   "metadata": {
    "colab": {
     "base_uri": "https://localhost:8080/"
    },
    "id": "B1ZeB0_7bwzI",
    "outputId": "a4138632-873b-4da6-f246-ae3473193544"
   },
   "outputs": [
    {
     "name": "stdout",
     "output_type": "stream",
     "text": [
      "0.041289023162134945\n"
     ]
    }
   ],
   "source": [
    "from sklearn.metrics import balanced_accuracy_score\n",
    "from sklearn.metrics import accuracy_score\n",
    "df['target_converted'] = df.target\n",
    "df['target_converted'] = df.target_converted.apply(lambda x: 0 if x == 7 else x)\n",
    "df['target_converted'] = df.target_converted.apply(lambda x: 1 if x == 10 else x)\n",
    "df['target_converted'] = df.target_converted.apply(lambda x: 2 if x == 13 else x)\n",
    "print(accuracy_score(df.target_converted, model.labels_))"
   ]
  },
  {
   "cell_type": "markdown",
   "metadata": {
    "id": "ucIWlhmLc6cM"
   },
   "source": [
    "## <font color = 'E3A440'>5.3 Question méthodes supervisées </font>"
   ]
  },
  {
   "cell_type": "markdown",
   "metadata": {
    "id": "2QolMWGXbzlb"
   },
   "source": [
    "Classifier les messages dans les groupes précédents"
   ]
  },
  {
   "cell_type": "code",
   "execution_count": 63,
   "metadata": {
    "id": "nnpRZ8OGR7H0"
   },
   "outputs": [],
   "source": [
    "from sklearn.model_selection import train_test_split\n",
    "tfidf_DTM_papers_norm = Normalizer().transform(tfidf_DTM_papers)\n",
    "X_train, X_test, y_train, y_test = train_test_split(tfidf_DTM_papers_norm, df.target, test_size = 0.2,  random_state=1)"
   ]
  },
  {
   "cell_type": "code",
   "execution_count": 64,
   "metadata": {
    "colab": {
     "base_uri": "https://localhost:8080/"
    },
    "id": "-mBglHFBSiXt",
    "outputId": "7306dc69-f37a-495a-bada-be7ff2924445"
   },
   "outputs": [
    {
     "name": "stdout",
     "output_type": "stream",
     "text": [
      "(2383, 13655)\n",
      "2383\n"
     ]
    }
   ],
   "source": [
    "print(X_train.shape)\n",
    "print(len(y_train))"
   ]
  },
  {
   "cell_type": "code",
   "execution_count": 65,
   "metadata": {
    "colab": {
     "base_uri": "https://localhost:8080/"
    },
    "id": "kR2tdKEqSl8d",
    "outputId": "e7ece51c-8a5a-4c53-d9d5-41d755c065cf"
   },
   "outputs": [
    {
     "name": "stdout",
     "output_type": "stream",
     "text": [
      "(596, 13655)\n",
      "596\n"
     ]
    }
   ],
   "source": [
    "print(X_test.shape)\n",
    "print(len(y_test))"
   ]
  },
  {
   "cell_type": "code",
   "execution_count": 75,
   "metadata": {
    "id": "OQxFqKC6dypm"
   },
   "outputs": [],
   "source": [
    "cls = MLPClassifier(random_state=1, max_iter=300).fit(X_train, y_train)"
   ]
  },
  {
   "cell_type": "markdown",
   "metadata": {},
   "source": [
    "Validation des performances d'apprentissage"
   ]
  },
  {
   "cell_type": "code",
   "execution_count": 76,
   "metadata": {},
   "outputs": [],
   "source": [
    "y_valid=cls.predict(X_train)"
   ]
  },
  {
   "cell_type": "code",
   "execution_count": 80,
   "metadata": {},
   "outputs": [
    {
     "data": {
      "text/plain": [
       "1.0"
      ]
     },
     "execution_count": 80,
     "metadata": {},
     "output_type": "execute_result"
    }
   ],
   "source": [
    "cls.score(X_train, y_valid)"
   ]
  },
  {
   "cell_type": "code",
   "execution_count": 81,
   "metadata": {},
   "outputs": [
    {
     "name": "stdout",
     "output_type": "stream",
     "text": [
      "[[786   0   0]\n",
      " [  0 800   0]\n",
      " [  0   0 797]]\n"
     ]
    }
   ],
   "source": [
    "print(confusion_matrix(y_train, y_valid))"
   ]
  },
  {
   "cell_type": "markdown",
   "metadata": {},
   "source": [
    "Validation des performances de prédictions"
   ]
  },
  {
   "cell_type": "code",
   "execution_count": 82,
   "metadata": {
    "id": "TFUCYUYsUTEU"
   },
   "outputs": [],
   "source": [
    "y_pred = cls.predict(X_test)"
   ]
  },
  {
   "cell_type": "code",
   "execution_count": 83,
   "metadata": {
    "colab": {
     "base_uri": "https://localhost:8080/"
    },
    "id": "OYeQ1gFJUd7E",
    "outputId": "d7b2ecf6-c64a-4e16-d260-8e4f08092d90"
   },
   "outputs": [
    {
     "data": {
      "text/plain": [
       "0.988255033557047"
      ]
     },
     "execution_count": 83,
     "metadata": {},
     "output_type": "execute_result"
    }
   ],
   "source": [
    "cls.score(X_test, y_test)"
   ]
  },
  {
   "cell_type": "code",
   "execution_count": 84,
   "metadata": {},
   "outputs": [
    {
     "name": "stdout",
     "output_type": "stream",
     "text": [
      "[[201   1   2]\n",
      " [  1 197   1]\n",
      " [  2   0 191]]\n"
     ]
    }
   ],
   "source": [
    "print(confusion_matrix(y_test, y_pred))"
   ]
  },
  {
   "cell_type": "code",
   "execution_count": 69,
   "metadata": {
    "colab": {
     "base_uri": "https://localhost:8080/"
    },
    "id": "_Rgcb6iYTzI2",
    "outputId": "541bc760-8e5d-465f-88a6-b8a87d7efcc7"
   },
   "outputs": [
    {
     "data": {
      "text/plain": [
       "0.9882937240300865"
      ]
     },
     "execution_count": 69,
     "metadata": {},
     "output_type": "execute_result"
    }
   ],
   "source": [
    "from sklearn.metrics import balanced_accuracy_score\n",
    "balanced_accuracy_score(y_test, y_pred)"
   ]
  },
  {
   "cell_type": "code",
   "execution_count": 70,
   "metadata": {},
   "outputs": [
    {
     "name": "stdout",
     "output_type": "stream",
     "text": [
      "[[201   1   2]\n",
      " [  1 197   1]\n",
      " [  2   0 191]]\n"
     ]
    }
   ],
   "source": [
    "print(confusion_matrix(y_test, y_pred))"
   ]
  },
  {
   "cell_type": "markdown",
   "metadata": {
    "id": "IhZSp6JKjH8k"
   },
   "source": [
    "## <font color = 'E3A440'> 2.3 NOTES PERSONNELLES: </font>\n",
    "\n",
    "-----\n",
    "\n",
    "-----"
   ]
  }
 ],
 "metadata": {
  "colab": {
   "provenance": [],
   "toc_visible": true
  },
  "kernelspec": {
   "display_name": "Python 3",
   "language": "python",
   "name": "python3"
  },
  "language_info": {
   "codemirror_mode": {
    "name": "ipython",
    "version": 3
   },
   "file_extension": ".py",
   "mimetype": "text/x-python",
   "name": "python",
   "nbconvert_exporter": "python",
   "pygments_lexer": "ipython3",
   "version": "3.8.5"
  }
 },
 "nbformat": 4,
 "nbformat_minor": 1
}
